{
 "cells": [
  {
   "cell_type": "code",
   "execution_count": null,
   "metadata": {},
   "outputs": [],
   "source": [
    "%cd ..\n",
    "\n",
    "import os\n",
    "import json\n",
    "import yaml\n",
    "import time\n",
    "import random\n",
    "from tqdm.notebook import tqdm\n",
    "\n",
    "from selenium import webdriver\n",
    "from selenium.webdriver.chrome.options import Options\n",
    "from selenium.webdriver.common.keys import Keys\n",
    "from bs4 import BeautifulSoup\n",
    "import urllib\n",
    "from urllib.error import HTTPError"
   ]
  },
  {
   "cell_type": "code",
   "execution_count": null,
   "metadata": {},
   "outputs": [],
   "source": [
    "config_path = 'config.yaml'\n",
    "with open(config_path) as file:\n",
    "    config = yaml.safe_load(file)['dataset']"
   ]
  },
  {
   "cell_type": "code",
   "execution_count": null,
   "metadata": {},
   "outputs": [],
   "source": [
    "common = []\n",
    "with open(config['common_char_path'], 'r') as f:\n",
    "    for line in f:\n",
    "        common.append(line.strip())\n",
    "        \n",
    "common = common[:100]"
   ]
  },
  {
   "cell_type": "code",
   "execution_count": null,
   "metadata": {},
   "outputs": [],
   "source": [
    "def send_word_key(word, driver):\n",
    "    elem = driver.find_element_by_class_name('MuiInputBase-input')\n",
    "\n",
    "    while len(elem.get_attribute('value')) > 0:\n",
    "        elem.send_keys(Keys.BACK_SPACE)\n",
    "\n",
    "    elem.send_keys(word)\n",
    "\n",
    "    elem = driver.find_element_by_class_name(\"MuiButton-label\")\n",
    "    script = \"arguments[0].click()\"\n",
    "    driver.execute_script(script, elem)\n",
    "    assert driver.find_element_by_class_name('MuiInputBase-input').get_attribute('value') == word\n",
    "    \n",
    "def get_img_wrappers(driver):\n",
    "    content = driver.page_source\n",
    "    soup = BeautifulSoup(content, features='lxml')\n",
    "    wrappers = soup.find_all('div', {'class': 'MuiGrid-root MuiGrid-item MuiGrid-grid-xs-4 MuiGrid-grid-sm-3 MuiGrid-grid-md-2 MuiGrid-grid-lg-2'})\n",
    "    imgs = []\n",
    "    for wrapper in wrappers:\n",
    "        imgs.append((wrapper.find('img'), wrapper.find('p').text))\n",
    "    return imgs"
   ]
  },
  {
   "cell_type": "code",
   "execution_count": null,
   "metadata": {},
   "outputs": [],
   "source": [
    "chrome_path = '/Users/kx/chromedriver'\n",
    "chrome_options = Options()\n",
    "chrome_options.add_argument(\"--headless\")\n",
    "driver = webdriver.Chrome(chrome_path, options=chrome_options)\n",
    "\n",
    "dict_url = 'https://www.shufadict.com/dict/x'\n",
    "driver.get(dict_url)\n",
    "\n",
    "loading = True\n",
    "while loading:\n",
    "    content = driver.page_source\n",
    "    soup = BeautifulSoup(content)\n",
    "    loading = soup.find('div', {'id': 'loading'}) is not None\n",
    "    time.sleep(3)"
   ]
  },
  {
   "cell_type": "code",
   "execution_count": null,
   "metadata": {},
   "outputs": [],
   "source": [
    "with open(config['lookup_path'], 'r') as f:\n",
    "    lookup_ls = json.load(f)\n",
    "\n",
    "done = set([x[0] for x in lookup_ls])"
   ]
  },
  {
   "cell_type": "code",
   "execution_count": null,
   "metadata": {
    "scrolled": true
   },
   "outputs": [],
   "source": [
    "prev_img = ''\n",
    "for i, word in enumerate(common):\n",
    "\n",
    "    print('[STATUS] {}/{} {}'.format(i + 1, len(common), word))\n",
    "    \n",
    "    if word in done:\n",
    "        continue\n",
    "    \n",
    "    send_word_key(word, driver)\n",
    "\n",
    "    word_path = os.path.join(config['raw_dir'], word)\n",
    "    if not os.path.exists(word_path):\n",
    "        os.makedirs(word_path)\n",
    "    \n",
    "    retries = 3\n",
    "    imgs = get_img_wrappers(driver)\n",
    "    \n",
    "    while (len(imgs) == 0 or imgs[0] == prev_img) and retries > 0:\n",
    "        time.sleep(random.random() + 5)\n",
    "        imgs = get_img_wrappers(driver)\n",
    "        retries -= 1\n",
    "        \n",
    "    if len(imgs) == 0:\n",
    "        print('[ERROR] 0 images found'.format(word))\n",
    "    \n",
    "    for item in tqdm(imgs):\n",
    "        \n",
    "        (img, author) = item\n",
    "        img_src = img['src']\n",
    "        filename = img_src.split('/')[-1].split('@')[0]\n",
    "        lookup = [word, author, filename]\n",
    "        if lookup not in lookup_ls:\n",
    "            lookup_ls.append(lookup)\n",
    "            img_path = os.path.join(word_path, filename)\n",
    "            if not os.path.exists(img_path):\n",
    "                try:\n",
    "                    urllib.request.urlretrieve(img_src, img_path)\n",
    "                except HTTPError:\n",
    "                    print('[ERROR] HTTPError', img_src)\n",
    "        \n",
    "    with open(config['lookup_path'], 'w') as f:\n",
    "        json.dump(lookup_ls, f)\n",
    "    \n",
    "    prev_img = imgs[0]"
   ]
  },
  {
   "cell_type": "code",
   "execution_count": null,
   "metadata": {},
   "outputs": [],
   "source": [
    "driver.quit()"
   ]
  },
  {
   "cell_type": "code",
   "execution_count": null,
   "metadata": {},
   "outputs": [],
   "source": []
  }
 ],
 "metadata": {
  "kernelspec": {
   "display_name": "Python 3",
   "language": "python",
   "name": "python3"
  },
  "language_info": {
   "codemirror_mode": {
    "name": "ipython",
    "version": 3
   },
   "file_extension": ".py",
   "mimetype": "text/x-python",
   "name": "python",
   "nbconvert_exporter": "python",
   "pygments_lexer": "ipython3",
   "version": "3.8.3"
  }
 },
 "nbformat": 4,
 "nbformat_minor": 4
}
