{
 "cells": [
  {
   "cell_type": "markdown",
   "metadata": {},
   "source": [
    "Scrape images from www.shufadict.com/dict/x"
   ]
  },
  {
   "cell_type": "markdown",
   "metadata": {},
   "source": [
    "<table>\n",
    "    <tr>\n",
    "        <td> <img src=\"./../data/shufadict/raw/对/0e0c5c1e77602807bdead70d6bb24391.png\" alt=\"sample1\" style=\"height: 80px\"> </td>\n",
    "        <td> <img src=\"./../data/shufadict/raw/就/0e5a9ed779e6337c62948e3992404fce.png\" alt=\"sample2\" style=\"height: 80px\"> </td>\n",
    "        <td> <img src=\"./../data/shufadict/raw/成/9b5e9f4126d0bac2def6f3a375c90719.png\" alt=\"sample3\" style=\"height: 80px\"> </td>\n",
    "        <td> <img src=\"./../data/shufadict/raw/然/1b74a2eea6138f3791590d6189348e4d.png\" alt=\"sample4\" style=\"height: 80px\"> </td>\n",
    "    </tr>\n",
    "</table>"
   ]
  },
  {
   "cell_type": "code",
   "execution_count": null,
   "metadata": {},
   "outputs": [],
   "source": [
    "%cd ..\n",
    "\n",
    "import os\n",
    "import json\n",
    "import yaml\n",
    "import time\n",
    "import random\n",
    "from tqdm.notebook import tqdm\n",
    "\n",
    "from selenium import webdriver\n",
    "from selenium.webdriver.chrome.options import Options\n",
    "from selenium.webdriver.common.keys import Keys\n",
    "from bs4 import BeautifulSoup\n",
    "import urllib\n",
    "from urllib.error import HTTPError"
   ]
  },
  {
   "cell_type": "code",
   "execution_count": null,
   "metadata": {},
   "outputs": [],
   "source": [
    "CHAR_LS_PATH = 'data/common.txt'\n",
    "DIR_RAW = 'data/shufadict/raw'\n",
    "CHROME_PATH = '/Users/kx/docs/chromedriver'"
   ]
  },
  {
   "cell_type": "code",
   "execution_count": null,
   "metadata": {},
   "outputs": [],
   "source": [
    "# get the 100 common character\n",
    "common = []\n",
    "with open(CHAR_LS_PATH, 'r') as f:\n",
    "    for line in f:\n",
    "        common.append(line.strip())\n",
    "\n",
    "common = common[:100]"
   ]
  },
  {
   "cell_type": "code",
   "execution_count": null,
   "metadata": {},
   "outputs": [],
   "source": [
    "# send query character to text input field\n",
    "def send_char_key(char, driver):\n",
    "    elem = driver.find_element_by_class_name('MuiInputBase-input')\n",
    "    \n",
    "    # clear input field\n",
    "    while len(elem.get_attribute('value')) > 0:\n",
    "        elem.send_keys(Keys.BACK_SPACE)\n",
    "\n",
    "    elem.send_keys(char)\n",
    "    \n",
    "    # click send cutton\n",
    "    elem = driver.find_element_by_class_name(\"MuiButton-label\")\n",
    "    script = \"arguments[0].click()\"\n",
    "    driver.execute_script(script, elem)\n",
    "    \n",
    "    assert char == driver.find_element_by_class_name('MuiInputBase-input').get_attribute('value')\n",
    "    \n",
    "\n",
    "# extract all image elements\n",
    "def get_img_wrappers(driver):\n",
    "    content = driver.page_source\n",
    "    soup = BeautifulSoup(content, features='lxml')\n",
    "    wrappers = soup.find_all(\n",
    "        'div', \n",
    "        {\n",
    "            'class': 'MuiGrid-root MuiGrid-item MuiGrid-grid-xs-4 MuiGrid-grid-sm-3 MuiGrid-grid-md-2 MuiGrid-grid-lg-2'\n",
    "        }\n",
    "    )\n",
    "    imgs = []\n",
    "    for wrapper in wrappers:\n",
    "        imgs.append((wrapper.find('img'), wrapper.find('p').text))\n",
    "    return imgs"
   ]
  },
  {
   "cell_type": "code",
   "execution_count": null,
   "metadata": {},
   "outputs": [],
   "source": [
    "# launch headless chrome driver\n",
    "chrome_options = Options()\n",
    "chrome_options.add_argument(\"--headless\")\n",
    "driver = webdriver.Chrome(CHROME_PATH, options=chrome_options)\n",
    "\n",
    "# go to shufadict home page\n",
    "dict_url = 'https://www.shufadict.com/dict/x'\n",
    "driver.get(dict_url)\n",
    "\n",
    "# wait for text box to show up\n",
    "loading = True\n",
    "while loading:\n",
    "    content = driver.page_source\n",
    "    soup = BeautifulSoup(content)\n",
    "    loading = soup.find('div', {'id': 'loading'}) is not None\n",
    "    time.sleep(3)"
   ]
  },
  {
   "cell_type": "code",
   "execution_count": null,
   "metadata": {
    "scrolled": true
   },
   "outputs": [],
   "source": [
    "prev_img = ''\n",
    "for i, char in enumerate(common):\n",
    "\n",
    "    print('[STATUS] {}/{} {}'.format(i + 1, len(common), char))\n",
    "\n",
    "    send_char_key(char, driver) # load images for the given char\n",
    "\n",
    "    char_path = os.path.join(DIR_RAW, char)\n",
    "    if not os.path.exists(char_path):\n",
    "        os.makedirs(char_path)\n",
    "    \n",
    "    retries = 3\n",
    "    imgs = get_img_wrappers(driver)\n",
    "    \n",
    "    # sanity check to ensure the page got reloaded, and limit max retries to 3\n",
    "    while (len(imgs) == 0 or imgs[0] == prev_img) and retries > 0:\n",
    "        time.sleep(random.random() + 5)\n",
    "        imgs = get_img_wrappers(driver)\n",
    "        retries -= 1\n",
    "    \n",
    "    # sanity check\n",
    "    if len(imgs) == 0:\n",
    "        print('[ERROR] 0 images found'.format(char))\n",
    "    \n",
    "    # start downloading images\n",
    "    for item in tqdm(imgs):\n",
    "    \n",
    "        (img, author) = item\n",
    "        img_src = img['src']\n",
    "        filename = img_src.split('/')[-1].split('@')[0]\n",
    "        img_path = os.path.join(char_path, filename)\n",
    "        \n",
    "        if not os.path.exists(img_path):\n",
    "            \n",
    "            try:\n",
    "                # download image\n",
    "                response = requests.get(img_src)\n",
    "                file = open(img_path, \"wb\")\n",
    "                file.write(response.content)\n",
    "                file.close()\n",
    "                # urllib.request.urlretrieve(img_src, img_path) # alternative way to download\n",
    "                \n",
    "            except HTTPError:\n",
    "                print('[ERROR] HTTPError -', img_src)\n",
    "    \n",
    "    prev_img = imgs[0]"
   ]
  },
  {
   "cell_type": "code",
   "execution_count": null,
   "metadata": {},
   "outputs": [],
   "source": [
    "driver.quit()"
   ]
  }
 ],
 "metadata": {
  "kernelspec": {
   "display_name": "Python 3",
   "language": "python",
   "name": "python3"
  },
  "language_info": {
   "codemirror_mode": {
    "name": "ipython",
    "version": 3
   },
   "file_extension": ".py",
   "mimetype": "text/x-python",
   "name": "python",
   "nbconvert_exporter": "python",
   "pygments_lexer": "ipython3",
   "version": "3.9.5"
  }
 },
 "nbformat": 4,
 "nbformat_minor": 4
}
