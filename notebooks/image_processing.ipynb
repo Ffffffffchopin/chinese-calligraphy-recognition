{
 "cells": [
  {
   "cell_type": "markdown",
   "metadata": {},
   "source": [
    "# Image processing\n",
    "\n",
    "This notebook process the raw image data into a binary image of size 128x128px."
   ]
  },
  {
   "cell_type": "markdown",
   "metadata": {},
   "source": [
    "<table>\n",
    "    <tr>\n",
    "        <td style=\"text-align: center;\">Input</td>\n",
    "        <td style=\"text-align: center;\">Output</td>\n",
    "    </tr>\n",
    "    <tr>\n",
    "        <td> <img src=\"./../data/shufadict/raw/总/05f54c9bc9307fa71449ab298cc2ac49.png\" alt=\"input\" style=\"height: 100px\"> </td>\n",
    "        <td> <img src=\"./../data/shufadict/tmp/clean_tmp/总/05f54c9bc9307fa71449ab298cc2ac49.png\" alt=\"input\" style=\"height: 100px\"> </td>\n",
    "    </tr>\n",
    "</table>"
   ]
  },
  {
   "cell_type": "markdown",
   "metadata": {},
   "source": [
    "**Prerequisite:**\n",
    "\n",
    "The data are stored in the following format:\n",
    "```\n",
    "    raw_dir\n",
    "    ├── 天\n",
    "    │   ├── 02237bba94dff9b31e94b1ec0e5d6264.png\n",
    "    │   ├── 039205b2e1d2a3a3c7686dda0b0eefe4.png\n",
    "    │   ├── ...\n",
    "    │   └── 10898d8e1ba407a4f37369eb080b9d2e.png\n",
    "    ├── ...    \n",
    "    └── 里\n",
    "        ├── dfe190f491b488ff46b5753871959620.png\n",
    "        ├── ee7722ff6e35ec5641cb59a50a40addf.png\n",
    "        ├── ...\n",
    "        └── fc4a676a2a60454a4714888c02b1bf0e.png\n",
    "```"
   ]
  },
  {
   "cell_type": "markdown",
   "metadata": {},
   "source": [
    "## Setup"
   ]
  },
  {
   "cell_type": "code",
   "execution_count": 1,
   "metadata": {},
   "outputs": [
    {
     "name": "stdout",
     "output_type": "stream",
     "text": [
      "c:\\Users\\F.F.Chopin\\Desktop\\chinese-calligraphy-recognition\n"
     ]
    },
    {
     "name": "stderr",
     "output_type": "stream",
     "text": [
      "c:\\Users\\F.F.Chopin\\AppData\\Local\\Programs\\Python\\Python310\\lib\\site-packages\\numpy\\_distributor_init.py:30: UserWarning: loaded more than 1 DLL from .libs:\n",
      "c:\\Users\\F.F.Chopin\\AppData\\Local\\Programs\\Python\\Python310\\lib\\site-packages\\numpy\\.libs\\libopenblas.EL2C6PLE4ZYW3ECEVIV3OXXGRN2NRFM2.gfortran-win_amd64.dll\n",
      "c:\\Users\\F.F.Chopin\\AppData\\Local\\Programs\\Python\\Python310\\lib\\site-packages\\numpy\\.libs\\libopenblas.FB5AE2TYXYH2IJRDKGDGQ3XBKLKTF43H.gfortran-win_amd64.dll\n",
      "  warnings.warn(\"loaded more than 1 DLL from .libs:\"\n"
     ]
    }
   ],
   "source": [
    "%cd ..\n",
    "#引入系统模块\n",
    "import os\n",
    "#引入进度条模块\n",
    "from tqdm.notebook import tqdm\n",
    "#引入opencv\n",
    "import cv2\n",
    "#引入numpy \n",
    "import numpy as np\n",
    "#引入matpoltlib绘图模块 \n",
    "from matplotlib import pyplot as plt\n",
    "#引入分割和归一化函数\n",
    "from modules.image_processing import segment_image, norm_char_size\n",
    "#设置matplotlib在notebook内显示\n",
    "%matplotlib inline"
   ]
  },
  {
   "cell_type": "code",
   "execution_count": 2,
   "metadata": {},
   "outputs": [],
   "source": [
    "# show a list of images\n",
    "#绘制结果函数\n",
    "def show(imgs, col=5, titles=None, gray=True):\n",
    "    #至少两行\n",
    "    row = max((len(imgs) + col - 1) // col, 2)\n",
    "    #初始化画布\n",
    "    plt.figure(figsize=(col * 2.5, row * 2))\n",
    "    #循环\n",
    "    for i in range(len(imgs)):\n",
    "        #子画布\n",
    "        ax = plt.subplot(row, col, i + 1)\n",
    "        #网格输出\n",
    "        if gray:\n",
    "            plt.imshow(imgs[i], 'gray')\n",
    "        else:\n",
    "            plt.imshow(imgs[i])\n",
    "        if titles is not None:\n",
    "            plt.title(titles[i])\n",
    "        plt.axis(\"off\")\n",
    "        \n",
    "\n",
    "# write image data to the given directory\n",
    "# data is a dictionary with character as key and list of tuple (file_name, image_array)\n",
    "# as values\n",
    "#写入文件列表函数\n",
    "def write_data(data, data_dir):\n",
    "    #按字典键值循环\n",
    "    for char in data.keys():\n",
    "        #新文件夹名\n",
    "        char_path = os.path.join(data_dir, char)\n",
    "        if not os.path.exists(char_path):\n",
    "            os.mkdir(char_path)  \n",
    "        #读出字典中的元组    \n",
    "        for file, img in data[char]:\n",
    "            #在char_path中写入文件图片\n",
    "            fpath = os.path.join(data_dir, char, file)\n",
    "            cv2.imwrite(fpath, img)\n",
    "            \n",
    "#读出数据函数\n",
    "# read image data from the given directory\n",
    "def read_data(data_dir):\n",
    "    #新建字典\n",
    "    data = {}\n",
    "    #循环字符名\n",
    "    for char in [x for x in os.listdir(data_dir) if x != '.DS_Store']:\n",
    "        #每个键值新建列表\n",
    "        data[char] = []\n",
    "\n",
    "        char_path = os.path.join(data_dir, char) \n",
    "        for file in [x for x in os.listdir(char_path) if x != '.DS_Store']:\n",
    "            fpath = os.path.join(data_dir, char, file)\n",
    "            #在列表中读入文件名和图片元组\n",
    "            data[char].append((file, cv2.imread(fpath)))\n",
    "    return data"
   ]
  },
  {
   "cell_type": "code",
   "execution_count": 3,
   "metadata": {},
   "outputs": [
    {
     "ename": "FileNotFoundError",
     "evalue": "[WinError 3] 系统找不到指定的路径。: 'data\\\\shufadict\\\\raw'",
     "output_type": "error",
     "traceback": [
      "\u001b[1;31m---------------------------------------------------------------------------\u001b[0m",
      "\u001b[1;31mFileNotFoundError\u001b[0m                         Traceback (most recent call last)",
      "\u001b[1;32mc:\\Users\\F.F.Chopin\\Desktop\\chinese-calligraphy-recognition\\notebooks\\image_processing.ipynb Cell 7\u001b[0m in \u001b[0;36m<cell line: 9>\u001b[1;34m()\u001b[0m\n\u001b[0;32m      <a href='vscode-notebook-cell:/c%3A/Users/F.F.Chopin/Desktop/chinese-calligraphy-recognition/notebooks/image_processing.ipynb#W6sZmlsZQ%3D%3D?line=4'>5</a>\u001b[0m DIR_TMP \u001b[39m=\u001b[39m os\u001b[39m.\u001b[39mpath\u001b[39m.\u001b[39mjoin(\u001b[39m'\u001b[39m\u001b[39mdata\u001b[39m\u001b[39m'\u001b[39m, \u001b[39m'\u001b[39m\u001b[39mshufadict\u001b[39m\u001b[39m'\u001b[39m, \u001b[39m'\u001b[39m\u001b[39mtmp\u001b[39m\u001b[39m'\u001b[39m)\n\u001b[0;32m      <a href='vscode-notebook-cell:/c%3A/Users/F.F.Chopin/Desktop/chinese-calligraphy-recognition/notebooks/image_processing.ipynb#W6sZmlsZQ%3D%3D?line=6'>7</a>\u001b[0m \u001b[39m#初始文件名列表\u001b[39;00m\n\u001b[0;32m      <a href='vscode-notebook-cell:/c%3A/Users/F.F.Chopin/Desktop/chinese-calligraphy-recognition/notebooks/image_processing.ipynb#W6sZmlsZQ%3D%3D?line=7'>8</a>\u001b[0m \u001b[39m# character list\u001b[39;00m\n\u001b[1;32m----> <a href='vscode-notebook-cell:/c%3A/Users/F.F.Chopin/Desktop/chinese-calligraphy-recognition/notebooks/image_processing.ipynb#W6sZmlsZQ%3D%3D?line=8'>9</a>\u001b[0m CHARS \u001b[39m=\u001b[39m [x \u001b[39mfor\u001b[39;00m x \u001b[39min\u001b[39;00m os\u001b[39m.\u001b[39;49mlistdir(DIR_RAW) \u001b[39mif\u001b[39;00m x \u001b[39m!=\u001b[39m \u001b[39m'\u001b[39m\u001b[39m.DS_Store\u001b[39m\u001b[39m'\u001b[39m]\n",
      "\u001b[1;31mFileNotFoundError\u001b[0m: [WinError 3] 系统找不到指定的路径。: 'data\\\\shufadict\\\\raw'"
     ]
    }
   ],
   "source": [
    "# data directories\n",
    "#父级目录\n",
    "DIR_RAW = os.path.join('data', 'shufadict', 'raw')\n",
    "DIR_CLEAN = os.path.join('data', 'shufadict', 'clean')\n",
    "DIR_TMP = os.path.join('data', 'shufadict', 'tmp')\n",
    "\n",
    "#初始文件名列表\n",
    "# character list\n",
    "CHARS = [x for x in os.listdir(DIR_RAW) if x != '.DS_Store']"
   ]
  },
  {
   "cell_type": "markdown",
   "metadata": {},
   "source": [
    "## Initial image processing\n",
    "This step is fully automated, there might be segmentation fails or noises in the output, depending on the input image quality."
   ]
  },
  {
   "cell_type": "code",
   "execution_count": null,
   "metadata": {},
   "outputs": [],
   "source": [
    "dir_input = DIR_RAW\n",
    "dir_output = os.path.join(DIR_TMP, 'segmented')"
   ]
  },
  {
   "cell_type": "code",
   "execution_count": null,
   "metadata": {
    "scrolled": true
   },
   "outputs": [],
   "source": [
    "#读出初始图片文件名元组\n",
    "raws = read_data(dir_input)\n",
    "\n",
    "#新建字典存储结果\n",
    "segmenteds = {}\n",
    "\n",
    "#设置进度条\n",
    "for char in tqdm(CHARS):\n",
    "    \n",
    "    #新建列表\n",
    "    segmenteds[char] = []\n",
    "    \n",
    "    #元组循环\n",
    "    for file, image in raws[char]:\n",
    "        \n",
    "\n",
    "        # process image (blur and segment by kmeans)\n",
    "        #对每张图片执行高斯模糊处理\n",
    "        blur = cv2.GaussianBlur(image, (9, 9), 0)\n",
    "        #用keams获得标签\n",
    "        segmented = segment_image(blur)\n",
    "        #列表中添加文件名和标签\n",
    "        segmenteds[char].append((file, segmented))\n",
    "\n",
    "# save images\n",
    "#写入标签元组到dir_output\n",
    "write_data(segmenteds, dir_output)"
   ]
  },
  {
   "cell_type": "markdown",
   "metadata": {},
   "source": [
    "## Manual cleaning\n",
    "Clean images with segmentation fails."
   ]
  },
  {
   "cell_type": "code",
   "execution_count": null,
   "metadata": {},
   "outputs": [],
   "source": [
    "def remap_by_count(cc_img):\n",
    "    retval = np.zeros(cc_img.shape)\n",
    "    bincount = np.argsort(-np.bincount(cc_img.reshape(-1)))\n",
    "    for i in range(bincount.shape[0]):\n",
    "        retval[cc_img == bincount[i]] = i\n",
    "    return retval\n",
    "\n",
    "segmenteds = read_data(os.path.join(DIR_TMP, 'segmented'))\n",
    "raws = read_data(DIR_RAW)"
   ]
  },
  {
   "cell_type": "markdown",
   "metadata": {},
   "source": [
    "Step 1: Select character to process by char index"
   ]
  },
  {
   "cell_type": "code",
   "execution_count": null,
   "metadata": {},
   "outputs": [],
   "source": [
    "idx = 1\n",
    "#文件名列表\n",
    "fnames = [x[0] for x in segmenteds[CHARS[idx]]] # file names\n",
    "#图片列表\n",
    "rimgs = [x[1] for x in raws[CHARS[idx]]] # raw images\n",
    "#标签列表\n",
    "simgs = [x[1][:, :, 0] for x in segmenteds[CHARS[idx]]] # segmented images\n",
    "#处理后的标签\n",
    "cimgs = [norm_char_size(x) for x in simgs] # cleaned images (output)\n",
    "pending_idxs = [] # outliers index\n",
    "#初始图片和处理后的拼接\n",
    "concated = [np.concatenate((x[:, :, 0], y), axis = 1) for x, y in zip(rimgs, simgs)]\n",
    "show(concated,  titles=[str(i) for i in range(len(rimgs))], col=4)"
   ]
  },
  {
   "cell_type": "markdown",
   "metadata": {},
   "source": [
    "Step 2a: Select image to process by index, and select which connected components to keep (to remove noises)"
   ]
  },
  {
   "cell_type": "code",
   "execution_count": null,
   "metadata": {
    "scrolled": false
   },
   "outputs": [],
   "source": [
    "#随机指定pending\n",
    "j = 74\n",
    "\n",
    "\n",
    "# find connected components, reassign component label (larger region has smaller index)\n",
    "#连通域处理\n",
    "num_labels, labels_im = cv2.connectedComponents((simgs[j] // 255).astype('uint8'))\n",
    "#按照标签重排\n",
    "labels_im = remap_by_count(labels_im)\n",
    "\n",
    "# select components to keep\n",
    "#选择有连通域的组件\n",
    "comps = list(range(1, num_labels - 2)) \n",
    "# comps = [1, 2, 3, 4]\n",
    "\n",
    "#归一化\n",
    "cimgs[j] = norm_char_size(np.any([labels_im == x for x in comps], axis=0).astype(int) * 255)\n",
    "\n",
    "show([labels_im], gray=False)\n",
    "show([cimgs[j]])\n",
    "show([labels_im == x for x in range(num_labels)], titles=[str(i) for i in range(num_labels)])"
   ]
  },
  {
   "cell_type": "markdown",
   "metadata": {},
   "source": [
    "Step 2b: Playground (eg. crop image, modify blurring parameters)"
   ]
  },
  {
   "cell_type": "code",
   "execution_count": null,
   "metadata": {},
   "outputs": [],
   "source": [
    "# blur = cv2.GaussianBlur(rimgs[j][:, :, :], (1, 1), 0)\n",
    "# segmented = segment_image(blur)\n",
    "# show([segmented])\n",
    "# # simgs[j] = segmented"
   ]
  },
  {
   "cell_type": "markdown",
   "metadata": {},
   "source": [
    "Step 2c: Add image index to `pending_idxs` if input image quality is too bad"
   ]
  },
  {
   "cell_type": "code",
   "execution_count": null,
   "metadata": {},
   "outputs": [],
   "source": [
    "pending_idxs.append(j)\n",
    "pending_idxs"
   ]
  },
  {
   "cell_type": "markdown",
   "metadata": {},
   "source": [
    "Step 3: Final validation"
   ]
  },
  {
   "cell_type": "code",
   "execution_count": null,
   "metadata": {
    "scrolled": true
   },
   "outputs": [],
   "source": [
    "# cleaned images\n",
    "show(\n",
    "    [x for i, x in enumerate(cimgs) if i not in pending_idxs],  \n",
    "    titles=[str(i) for i in range(len(rimgs)) if i not in pending_idxs]\n",
    ")"
   ]
  },
  {
   "cell_type": "code",
   "execution_count": null,
   "metadata": {
    "scrolled": true
   },
   "outputs": [],
   "source": [
    "# failed images\n",
    "concated = [np.concatenate((norm_char_size(x[:, :, 0]), y), axis = 1) for i, x, y in zip(range(len(rimgs)), rimgs, cimgs) if i in pending_idxs]\n",
    "show(concated,  titles=[str(i) for i in pending_idxs])"
   ]
  },
  {
   "cell_type": "markdown",
   "metadata": {},
   "source": [
    "Step 4: Write data, cleaned and failed images are written to separated directories"
   ]
  },
  {
   "cell_type": "code",
   "execution_count": null,
   "metadata": {},
   "outputs": [],
   "source": [
    "#将已经处理好的图片存入指定目录中\n",
    "tmp = list(zip(fnames, cimgs))\n",
    "data = { CHARS[idx]: [tmp[i] for i in range(len(tmp)) if i not in pending_idxs] }\n",
    "write_data(data, os.path.join(DIR_TMP, 'clean_tmp'))\n",
    "\n",
    "#将待定图片存入目录\n",
    "if len(pending_idxs) > 0:\n",
    "    tmp = list(zip(fnames, rimgs))\n",
    "    data = { CHARS[idx]: [tmp[i] for i in range(len(tmp)) if i in pending_idxs] }\n",
    "    write_data(data, os.path.join(DIR_TMP, 'pending'))"
   ]
  },
  {
   "cell_type": "markdown",
   "metadata": {},
   "source": [
    "### Process enhanced images from `pending`"
   ]
  },
  {
   "cell_type": "code",
   "execution_count": null,
   "metadata": {},
   "outputs": [],
   "source": [
    "dir_input = os.path.join(DIR_TMP, 'pending_enh')\n",
    "dir_output = os.path.join(DIR_TMP, 'pending_clean')"
   ]
  },
  {
   "cell_type": "code",
   "execution_count": null,
   "metadata": {},
   "outputs": [],
   "source": [
    "#对pending的图片再处理一遍\n",
    "raws = read_data(dir_input)\n",
    "segmenteds = {}\n",
    "cleaned = {}\n",
    "\n",
    "for char in tqdm([x for x in os.listdir(dir_input) if x != '.DS_Store']):\n",
    "    \n",
    "    segmenteds[char] = []\n",
    "    cleaned[char] = []\n",
    "    \n",
    "    for file, image in raws[char]:\n",
    "    \n",
    "        # process image (blur and segment by kmeans)\n",
    "        blur = cv2.GaussianBlur(image, (9, 9), 0)\n",
    "        segmented = segment_image(blur)\n",
    "        segmenteds[char].append((file, segmented))\n",
    "        cleaned[char].append((file, norm_char_size(segmented)))\n",
    "\n",
    "# save images\n",
    "write_data(cleaned, dir_output)"
   ]
  },
  {
   "cell_type": "code",
   "execution_count": null,
   "metadata": {},
   "outputs": [],
   "source": [
    "imgs = []\n",
    "for char in cleaned:\n",
    "    imgs += [img for file, img in cleaned[char]]\n",
    "        \n",
    "show(imgs)"
   ]
  },
  {
   "cell_type": "code",
   "execution_count": null,
   "metadata": {},
   "outputs": [],
   "source": [
    "# cp -a data/tmp/pending_clean/. clean/\n",
    "# cp -a data/tmp/clean_tmp/. clean/"
   ]
  }
 ],
 "metadata": {
  "kernelspec": {
   "display_name": "Python 3.10.5 64-bit",
   "language": "python",
   "name": "python3"
  },
  "language_info": {
   "codemirror_mode": {
    "name": "ipython",
    "version": 3
   },
   "file_extension": ".py",
   "mimetype": "text/x-python",
   "name": "python",
   "nbconvert_exporter": "python",
   "pygments_lexer": "ipython3",
   "version": "3.10.5"
  },
  "vscode": {
   "interpreter": {
    "hash": "761800048df075347a4698d71a89477ab83def30a78b3d80689d12d695c25165"
   }
  }
 },
 "nbformat": 4,
 "nbformat_minor": 4
}
