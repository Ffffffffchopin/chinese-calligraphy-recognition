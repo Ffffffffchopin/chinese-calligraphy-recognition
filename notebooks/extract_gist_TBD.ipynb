{
 "cells": [
  {
   "cell_type": "markdown",
   "metadata": {},
   "source": [
    "GIST Playground"
   ]
  },
  {
   "cell_type": "code",
   "execution_count": 17,
   "metadata": {},
   "outputs": [
    {
     "name": "stdout",
     "output_type": "stream",
     "text": [
      "/Users/kx/Docs/github/git_chinese_calligraphy-recognition\n"
     ]
    }
   ],
   "source": [
    "%cd ..\n",
    "import os\n",
    "import glob\n",
    "import gist\n",
    "import tqdm\n",
    "import json\n",
    "from tqdm.notebook import tqdm\n",
    "\n",
    "import numpy as np\n",
    "import matplotlib.image as mpimg"
   ]
  },
  {
   "cell_type": "markdown",
   "metadata": {},
   "source": [
    "## Clustering"
   ]
  },
  {
   "cell_type": "code",
   "execution_count": 2,
   "metadata": {},
   "outputs": [],
   "source": [
    "# read data\n",
    "data_dir = 'data/clustering'\n",
    "images = {}\n",
    "\n",
    "for file in glob.glob(data_dir + '/*/*/*'):\n",
    "    _, _, char, group, _ = file.split('/')\n",
    "    img = mpimg.imread(file)\n",
    "    if char not in images:\n",
    "        images[char] = {}\n",
    "    if group not in images[char]:\n",
    "        images[char][group] = []\n",
    "    images[char][group].append(img)\n",
    "    \n",
    "    \n",
    "def estimate_features(images, extractor):\n",
    "\n",
    "    features = {}\n",
    "    for char in images:\n",
    "        features[char] = {}\n",
    "        for var in images[char]:\n",
    "            var_fs = [extractor(image) for image in images[char][var]]\n",
    "            features[char][var] = list(sum(var_fs) / len(var_fs))\n",
    "            \n",
    "    return features"
   ]
  },
  {
   "cell_type": "code",
   "execution_count": 7,
   "metadata": {},
   "outputs": [],
   "source": [
    "def gist_extractor(image):\n",
    "    if len(image.shape) == 2:\n",
    "        image = np.expand_dims(image, 3).repeat(3, axis=2)\n",
    "        \n",
    "    nblocks = 4\n",
    "    ops = (8, 8, 4)\n",
    "    return gist.extract(\n",
    "        image.astype('uint8'), \n",
    "        nblocks=nblocks, \n",
    "        orientations_per_scale=ops)[:nblocks * sum(ops)]\n",
    "    "
   ]
  },
  {
   "cell_type": "code",
   "execution_count": 8,
   "metadata": {},
   "outputs": [
    {
     "data": {
      "text/plain": [
       "'{}'"
      ]
     },
     "execution_count": 8,
     "metadata": {},
     "output_type": "execute_result"
    }
   ],
   "source": [
    "gists = estimate_features(images, gist_extractor)\n",
    "str(gists)"
   ]
  },
  {
   "cell_type": "markdown",
   "metadata": {},
   "source": [
    "## Clean"
   ]
  },
  {
   "cell_type": "code",
   "execution_count": 14,
   "metadata": {},
   "outputs": [],
   "source": [
    "# read data\n",
    "data_dir = 'data/shufadict/clean'\n",
    "ext_data_dir = 'data/hanwen360/clean'\n",
    "images = {}\n",
    "\n",
    "for file in glob.glob(data_dir + '/*/*.png') + (glob.glob(ext_data_dir + '/*/*.png')):\n",
    "    char = file.split('/')[-2]\n",
    "    img = mpimg.imread(file)\n",
    "    if char not in images:\n",
    "        images[char] = []\n",
    "    images[char].append(img)"
   ]
  },
  {
   "cell_type": "code",
   "execution_count": 15,
   "metadata": {
    "scrolled": true
   },
   "outputs": [
    {
     "data": {
      "application/vnd.jupyter.widget-view+json": {
       "model_id": "e979da0ae4de49c98b6112996cec86e5",
       "version_major": 2,
       "version_minor": 0
      },
      "text/plain": [
       "0:   0%|          | 0/96 [00:00<?, ?it/s]"
      ]
     },
     "metadata": {},
     "output_type": "display_data"
    },
    {
     "data": {
      "application/vnd.jupyter.widget-view+json": {
       "model_id": "93894cf54c3a45d7b5efdd91acbda647",
       "version_major": 2,
       "version_minor": 0
      },
      "text/plain": [
       "1:   0%|          | 0/96 [00:00<?, ?it/s]"
      ]
     },
     "metadata": {},
     "output_type": "display_data"
    },
    {
     "data": {
      "application/vnd.jupyter.widget-view+json": {
       "model_id": "d094ced9f0bf45529dda8ae02bef0349",
       "version_major": 2,
       "version_minor": 0
      },
      "text/plain": [
       "2:   0%|          | 0/96 [00:00<?, ?it/s]"
      ]
     },
     "metadata": {},
     "output_type": "display_data"
    },
    {
     "data": {
      "application/vnd.jupyter.widget-view+json": {
       "model_id": "b90b683d70b846ea9c0ca18ce2add5dd",
       "version_major": 2,
       "version_minor": 0
      },
      "text/plain": [
       "3:   0%|          | 0/96 [00:00<?, ?it/s]"
      ]
     },
     "metadata": {},
     "output_type": "display_data"
    },
    {
     "data": {
      "application/vnd.jupyter.widget-view+json": {
       "model_id": "1cab877ddea94398af09f068575154c6",
       "version_major": 2,
       "version_minor": 0
      },
      "text/plain": [
       "4:   0%|          | 0/96 [00:00<?, ?it/s]"
      ]
     },
     "metadata": {},
     "output_type": "display_data"
    },
    {
     "data": {
      "application/vnd.jupyter.widget-view+json": {
       "model_id": "d3c022fae8e34e29abe542d615fd6b27",
       "version_major": 2,
       "version_minor": 0
      },
      "text/plain": [
       "5:   0%|          | 0/96 [00:00<?, ?it/s]"
      ]
     },
     "metadata": {},
     "output_type": "display_data"
    },
    {
     "data": {
      "application/vnd.jupyter.widget-view+json": {
       "model_id": "6cc75a7690e84ddba8084b947c51f0d4",
       "version_major": 2,
       "version_minor": 0
      },
      "text/plain": [
       "6:   0%|          | 0/96 [00:00<?, ?it/s]"
      ]
     },
     "metadata": {},
     "output_type": "display_data"
    },
    {
     "data": {
      "application/vnd.jupyter.widget-view+json": {
       "model_id": "298ecbf970fc4ecaa08024e5779d11f9",
       "version_major": 2,
       "version_minor": 0
      },
      "text/plain": [
       "7:   0%|          | 0/96 [00:00<?, ?it/s]"
      ]
     },
     "metadata": {},
     "output_type": "display_data"
    },
    {
     "data": {
      "application/vnd.jupyter.widget-view+json": {
       "model_id": "17161f89d2c442a195e419df4affe0ea",
       "version_major": 2,
       "version_minor": 0
      },
      "text/plain": [
       "8:   0%|          | 0/96 [00:00<?, ?it/s]"
      ]
     },
     "metadata": {},
     "output_type": "display_data"
    },
    {
     "data": {
      "application/vnd.jupyter.widget-view+json": {
       "model_id": "86d36baa792b48b1a913427159105c62",
       "version_major": 2,
       "version_minor": 0
      },
      "text/plain": [
       "9:   0%|          | 0/96 [00:00<?, ?it/s]"
      ]
     },
     "metadata": {},
     "output_type": "display_data"
    },
    {
     "data": {
      "application/vnd.jupyter.widget-view+json": {
       "model_id": "9ece4b3e6742468a8b91e32dfac3781c",
       "version_major": 2,
       "version_minor": 0
      },
      "text/plain": [
       "10:   0%|          | 0/96 [00:00<?, ?it/s]"
      ]
     },
     "metadata": {},
     "output_type": "display_data"
    },
    {
     "data": {
      "application/vnd.jupyter.widget-view+json": {
       "model_id": "c82a45b735fd46e484109dd1aa7b2d36",
       "version_major": 2,
       "version_minor": 0
      },
      "text/plain": [
       "11:   0%|          | 0/96 [00:00<?, ?it/s]"
      ]
     },
     "metadata": {},
     "output_type": "display_data"
    },
    {
     "data": {
      "application/vnd.jupyter.widget-view+json": {
       "model_id": "3ccc09af1ae340738bb6288815101e2d",
       "version_major": 2,
       "version_minor": 0
      },
      "text/plain": [
       "12:   0%|          | 0/104 [00:00<?, ?it/s]"
      ]
     },
     "metadata": {},
     "output_type": "display_data"
    },
    {
     "data": {
      "application/vnd.jupyter.widget-view+json": {
       "model_id": "e0eb5196a7f74cea89d4c5a8927bee94",
       "version_major": 2,
       "version_minor": 0
      },
      "text/plain": [
       "13:   0%|          | 0/96 [00:00<?, ?it/s]"
      ]
     },
     "metadata": {},
     "output_type": "display_data"
    },
    {
     "data": {
      "application/vnd.jupyter.widget-view+json": {
       "model_id": "0723e67a9f214dd088278e73e72c9759",
       "version_major": 2,
       "version_minor": 0
      },
      "text/plain": [
       "14:   0%|          | 0/80 [00:00<?, ?it/s]"
      ]
     },
     "metadata": {},
     "output_type": "display_data"
    },
    {
     "data": {
      "application/vnd.jupyter.widget-view+json": {
       "model_id": "f8ebd072491c4be49eb0d2ac36a516ab",
       "version_major": 2,
       "version_minor": 0
      },
      "text/plain": [
       "15:   0%|          | 0/96 [00:00<?, ?it/s]"
      ]
     },
     "metadata": {},
     "output_type": "display_data"
    },
    {
     "data": {
      "application/vnd.jupyter.widget-view+json": {
       "model_id": "b89efdd170634a549b97257e59f321f3",
       "version_major": 2,
       "version_minor": 0
      },
      "text/plain": [
       "16:   0%|          | 0/96 [00:00<?, ?it/s]"
      ]
     },
     "metadata": {},
     "output_type": "display_data"
    },
    {
     "data": {
      "application/vnd.jupyter.widget-view+json": {
       "model_id": "52acab9751064cd597f8c671fcbca5b8",
       "version_major": 2,
       "version_minor": 0
      },
      "text/plain": [
       "17:   0%|          | 0/96 [00:00<?, ?it/s]"
      ]
     },
     "metadata": {},
     "output_type": "display_data"
    },
    {
     "data": {
      "application/vnd.jupyter.widget-view+json": {
       "model_id": "45fb86c99b5b49cb86a7379c92a8fd82",
       "version_major": 2,
       "version_minor": 0
      },
      "text/plain": [
       "18:   0%|          | 0/172 [00:00<?, ?it/s]"
      ]
     },
     "metadata": {},
     "output_type": "display_data"
    },
    {
     "data": {
      "application/vnd.jupyter.widget-view+json": {
       "model_id": "a031693ac5b842b0924805dd6f928d9d",
       "version_major": 2,
       "version_minor": 0
      },
      "text/plain": [
       "19:   0%|          | 0/96 [00:00<?, ?it/s]"
      ]
     },
     "metadata": {},
     "output_type": "display_data"
    },
    {
     "data": {
      "application/vnd.jupyter.widget-view+json": {
       "model_id": "13d5c358d9be42bfa3eae95204030ade",
       "version_major": 2,
       "version_minor": 0
      },
      "text/plain": [
       "20:   0%|          | 0/96 [00:00<?, ?it/s]"
      ]
     },
     "metadata": {},
     "output_type": "display_data"
    },
    {
     "data": {
      "application/vnd.jupyter.widget-view+json": {
       "model_id": "6ccc07c377bb431897d8d47fa7661448",
       "version_major": 2,
       "version_minor": 0
      },
      "text/plain": [
       "21:   0%|          | 0/96 [00:00<?, ?it/s]"
      ]
     },
     "metadata": {},
     "output_type": "display_data"
    },
    {
     "data": {
      "application/vnd.jupyter.widget-view+json": {
       "model_id": "1741a02c9d8c478bac9b3c05c53908e7",
       "version_major": 2,
       "version_minor": 0
      },
      "text/plain": [
       "22:   0%|          | 0/96 [00:00<?, ?it/s]"
      ]
     },
     "metadata": {},
     "output_type": "display_data"
    },
    {
     "data": {
      "application/vnd.jupyter.widget-view+json": {
       "model_id": "a9ba76909d2942ff968528239c85dc2e",
       "version_major": 2,
       "version_minor": 0
      },
      "text/plain": [
       "23:   0%|          | 0/96 [00:00<?, ?it/s]"
      ]
     },
     "metadata": {},
     "output_type": "display_data"
    },
    {
     "data": {
      "application/vnd.jupyter.widget-view+json": {
       "model_id": "a217e46205584afabcbe02516dc76477",
       "version_major": 2,
       "version_minor": 0
      },
      "text/plain": [
       "24:   0%|          | 0/96 [00:00<?, ?it/s]"
      ]
     },
     "metadata": {},
     "output_type": "display_data"
    },
    {
     "data": {
      "application/vnd.jupyter.widget-view+json": {
       "model_id": "ecc587b12e3a4a09a9ffaf49461f14c5",
       "version_major": 2,
       "version_minor": 0
      },
      "text/plain": [
       "25:   0%|          | 0/169 [00:00<?, ?it/s]"
      ]
     },
     "metadata": {},
     "output_type": "display_data"
    },
    {
     "data": {
      "application/vnd.jupyter.widget-view+json": {
       "model_id": "8990c89a960f4a79b4285ac1298701be",
       "version_major": 2,
       "version_minor": 0
      },
      "text/plain": [
       "26:   0%|          | 0/103 [00:00<?, ?it/s]"
      ]
     },
     "metadata": {},
     "output_type": "display_data"
    },
    {
     "data": {
      "application/vnd.jupyter.widget-view+json": {
       "model_id": "c885c1d8d8b343f2bc55fc719a4b5bc0",
       "version_major": 2,
       "version_minor": 0
      },
      "text/plain": [
       "27:   0%|          | 0/96 [00:00<?, ?it/s]"
      ]
     },
     "metadata": {},
     "output_type": "display_data"
    },
    {
     "data": {
      "application/vnd.jupyter.widget-view+json": {
       "model_id": "504d05859d6b4e569020651fe93f75ca",
       "version_major": 2,
       "version_minor": 0
      },
      "text/plain": [
       "28:   0%|          | 0/107 [00:00<?, ?it/s]"
      ]
     },
     "metadata": {},
     "output_type": "display_data"
    },
    {
     "data": {
      "application/vnd.jupyter.widget-view+json": {
       "model_id": "ff8c95d908fb42d881792a8ade9a7cd8",
       "version_major": 2,
       "version_minor": 0
      },
      "text/plain": [
       "29:   0%|          | 0/96 [00:00<?, ?it/s]"
      ]
     },
     "metadata": {},
     "output_type": "display_data"
    },
    {
     "data": {
      "application/vnd.jupyter.widget-view+json": {
       "model_id": "3b655ecebd6948fcac27cfd6f1f1ad00",
       "version_major": 2,
       "version_minor": 0
      },
      "text/plain": [
       "30:   0%|          | 0/96 [00:00<?, ?it/s]"
      ]
     },
     "metadata": {},
     "output_type": "display_data"
    },
    {
     "data": {
      "application/vnd.jupyter.widget-view+json": {
       "model_id": "e7205fb2f0924b19b5fdde520ab49a30",
       "version_major": 2,
       "version_minor": 0
      },
      "text/plain": [
       "31:   0%|          | 0/104 [00:00<?, ?it/s]"
      ]
     },
     "metadata": {},
     "output_type": "display_data"
    },
    {
     "data": {
      "application/vnd.jupyter.widget-view+json": {
       "model_id": "389f1fcfcafe460d8ba4cc0b78944058",
       "version_major": 2,
       "version_minor": 0
      },
      "text/plain": [
       "32:   0%|          | 0/116 [00:00<?, ?it/s]"
      ]
     },
     "metadata": {},
     "output_type": "display_data"
    },
    {
     "data": {
      "application/vnd.jupyter.widget-view+json": {
       "model_id": "f51467cdc706437e97a73d1704af2812",
       "version_major": 2,
       "version_minor": 0
      },
      "text/plain": [
       "33:   0%|          | 0/96 [00:00<?, ?it/s]"
      ]
     },
     "metadata": {},
     "output_type": "display_data"
    },
    {
     "data": {
      "application/vnd.jupyter.widget-view+json": {
       "model_id": "9e816899c85c483095475913bfb950f9",
       "version_major": 2,
       "version_minor": 0
      },
      "text/plain": [
       "34:   0%|          | 0/96 [00:00<?, ?it/s]"
      ]
     },
     "metadata": {},
     "output_type": "display_data"
    },
    {
     "data": {
      "application/vnd.jupyter.widget-view+json": {
       "model_id": "7d8256f3950a4556a6cd0f47d2cea99e",
       "version_major": 2,
       "version_minor": 0
      },
      "text/plain": [
       "35:   0%|          | 0/163 [00:00<?, ?it/s]"
      ]
     },
     "metadata": {},
     "output_type": "display_data"
    },
    {
     "data": {
      "application/vnd.jupyter.widget-view+json": {
       "model_id": "4f4b4799f8d8461886f349da6b8f58af",
       "version_major": 2,
       "version_minor": 0
      },
      "text/plain": [
       "36:   0%|          | 0/96 [00:00<?, ?it/s]"
      ]
     },
     "metadata": {},
     "output_type": "display_data"
    },
    {
     "data": {
      "application/vnd.jupyter.widget-view+json": {
       "model_id": "3bee0c2c901545c5a9b7bbe54ce2e6f3",
       "version_major": 2,
       "version_minor": 0
      },
      "text/plain": [
       "37:   0%|          | 0/96 [00:00<?, ?it/s]"
      ]
     },
     "metadata": {},
     "output_type": "display_data"
    },
    {
     "data": {
      "application/vnd.jupyter.widget-view+json": {
       "model_id": "941abe4f12ae4d7f8acf12bc1691ad55",
       "version_major": 2,
       "version_minor": 0
      },
      "text/plain": [
       "38:   0%|          | 0/96 [00:00<?, ?it/s]"
      ]
     },
     "metadata": {},
     "output_type": "display_data"
    },
    {
     "data": {
      "application/vnd.jupyter.widget-view+json": {
       "model_id": "4c07e0e577364648b748006844969634",
       "version_major": 2,
       "version_minor": 0
      },
      "text/plain": [
       "39:   0%|          | 0/96 [00:00<?, ?it/s]"
      ]
     },
     "metadata": {},
     "output_type": "display_data"
    },
    {
     "data": {
      "application/vnd.jupyter.widget-view+json": {
       "model_id": "67e61afbc17a4ec7b6bb552b6938692d",
       "version_major": 2,
       "version_minor": 0
      },
      "text/plain": [
       "40:   0%|          | 0/96 [00:00<?, ?it/s]"
      ]
     },
     "metadata": {},
     "output_type": "display_data"
    },
    {
     "data": {
      "application/vnd.jupyter.widget-view+json": {
       "model_id": "446934a4e21c4f3eab1004bf60528c71",
       "version_major": 2,
       "version_minor": 0
      },
      "text/plain": [
       "41:   0%|          | 0/96 [00:00<?, ?it/s]"
      ]
     },
     "metadata": {},
     "output_type": "display_data"
    },
    {
     "data": {
      "application/vnd.jupyter.widget-view+json": {
       "model_id": "4b9638ccb1f84073ad740c9aab1bbcb5",
       "version_major": 2,
       "version_minor": 0
      },
      "text/plain": [
       "42:   0%|          | 0/95 [00:00<?, ?it/s]"
      ]
     },
     "metadata": {},
     "output_type": "display_data"
    },
    {
     "data": {
      "application/vnd.jupyter.widget-view+json": {
       "model_id": "b9afaa165dae429881918bac377c0c8c",
       "version_major": 2,
       "version_minor": 0
      },
      "text/plain": [
       "43:   0%|          | 0/96 [00:00<?, ?it/s]"
      ]
     },
     "metadata": {},
     "output_type": "display_data"
    },
    {
     "data": {
      "application/vnd.jupyter.widget-view+json": {
       "model_id": "1609cc12eb594a3ba88681d5f73b3f5a",
       "version_major": 2,
       "version_minor": 0
      },
      "text/plain": [
       "44:   0%|          | 0/96 [00:00<?, ?it/s]"
      ]
     },
     "metadata": {},
     "output_type": "display_data"
    },
    {
     "data": {
      "application/vnd.jupyter.widget-view+json": {
       "model_id": "b0387d980258442f9270a552a092eba3",
       "version_major": 2,
       "version_minor": 0
      },
      "text/plain": [
       "45:   0%|          | 0/96 [00:00<?, ?it/s]"
      ]
     },
     "metadata": {},
     "output_type": "display_data"
    },
    {
     "data": {
      "application/vnd.jupyter.widget-view+json": {
       "model_id": "6a754721dbeb46ed8026598fef24c5d7",
       "version_major": 2,
       "version_minor": 0
      },
      "text/plain": [
       "46:   0%|          | 0/96 [00:00<?, ?it/s]"
      ]
     },
     "metadata": {},
     "output_type": "display_data"
    },
    {
     "data": {
      "application/vnd.jupyter.widget-view+json": {
       "model_id": "8acf8216ed0a4b9f970a549372ef1c78",
       "version_major": 2,
       "version_minor": 0
      },
      "text/plain": [
       "47:   0%|          | 0/95 [00:00<?, ?it/s]"
      ]
     },
     "metadata": {},
     "output_type": "display_data"
    },
    {
     "data": {
      "application/vnd.jupyter.widget-view+json": {
       "model_id": "bcddf4c1673e4673b23eac9a164ebda3",
       "version_major": 2,
       "version_minor": 0
      },
      "text/plain": [
       "48:   0%|          | 0/96 [00:00<?, ?it/s]"
      ]
     },
     "metadata": {},
     "output_type": "display_data"
    },
    {
     "data": {
      "application/vnd.jupyter.widget-view+json": {
       "model_id": "741534f4e20e4e6dbcee6b6faf1f342d",
       "version_major": 2,
       "version_minor": 0
      },
      "text/plain": [
       "49:   0%|          | 0/96 [00:00<?, ?it/s]"
      ]
     },
     "metadata": {},
     "output_type": "display_data"
    },
    {
     "data": {
      "application/vnd.jupyter.widget-view+json": {
       "model_id": "852ca6186fdb4aaab13889bbb55a9bca",
       "version_major": 2,
       "version_minor": 0
      },
      "text/plain": [
       "50:   0%|          | 0/96 [00:00<?, ?it/s]"
      ]
     },
     "metadata": {},
     "output_type": "display_data"
    },
    {
     "data": {
      "application/vnd.jupyter.widget-view+json": {
       "model_id": "ae7f7b77b140404b81f66cc493af3a6c",
       "version_major": 2,
       "version_minor": 0
      },
      "text/plain": [
       "51:   0%|          | 0/96 [00:00<?, ?it/s]"
      ]
     },
     "metadata": {},
     "output_type": "display_data"
    },
    {
     "data": {
      "application/vnd.jupyter.widget-view+json": {
       "model_id": "33d2ee442d49483fadc7ed615a2490b2",
       "version_major": 2,
       "version_minor": 0
      },
      "text/plain": [
       "52:   0%|          | 0/96 [00:00<?, ?it/s]"
      ]
     },
     "metadata": {},
     "output_type": "display_data"
    },
    {
     "data": {
      "application/vnd.jupyter.widget-view+json": {
       "model_id": "245a4674009041c6af7a11d633d269c5",
       "version_major": 2,
       "version_minor": 0
      },
      "text/plain": [
       "53:   0%|          | 0/111 [00:00<?, ?it/s]"
      ]
     },
     "metadata": {},
     "output_type": "display_data"
    },
    {
     "data": {
      "application/vnd.jupyter.widget-view+json": {
       "model_id": "48a8a8e59da64c8a887dc389b7a61d97",
       "version_major": 2,
       "version_minor": 0
      },
      "text/plain": [
       "54:   0%|          | 0/96 [00:00<?, ?it/s]"
      ]
     },
     "metadata": {},
     "output_type": "display_data"
    },
    {
     "data": {
      "application/vnd.jupyter.widget-view+json": {
       "model_id": "932d5b4e9b1848ea89689863f5565e6c",
       "version_major": 2,
       "version_minor": 0
      },
      "text/plain": [
       "55:   0%|          | 0/89 [00:00<?, ?it/s]"
      ]
     },
     "metadata": {},
     "output_type": "display_data"
    },
    {
     "data": {
      "application/vnd.jupyter.widget-view+json": {
       "model_id": "efd0413b5b654dba97ce663624f43525",
       "version_major": 2,
       "version_minor": 0
      },
      "text/plain": [
       "56:   0%|          | 0/96 [00:00<?, ?it/s]"
      ]
     },
     "metadata": {},
     "output_type": "display_data"
    },
    {
     "data": {
      "application/vnd.jupyter.widget-view+json": {
       "model_id": "55d0dda028c34e868873cea017422d3d",
       "version_major": 2,
       "version_minor": 0
      },
      "text/plain": [
       "57:   0%|          | 0/96 [00:00<?, ?it/s]"
      ]
     },
     "metadata": {},
     "output_type": "display_data"
    },
    {
     "data": {
      "application/vnd.jupyter.widget-view+json": {
       "model_id": "4bf1a11028644fe9a0c7bf4c2566d911",
       "version_major": 2,
       "version_minor": 0
      },
      "text/plain": [
       "58:   0%|          | 0/96 [00:00<?, ?it/s]"
      ]
     },
     "metadata": {},
     "output_type": "display_data"
    },
    {
     "data": {
      "application/vnd.jupyter.widget-view+json": {
       "model_id": "ce47c27ee80947848a64228c28de779d",
       "version_major": 2,
       "version_minor": 0
      },
      "text/plain": [
       "59:   0%|          | 0/96 [00:00<?, ?it/s]"
      ]
     },
     "metadata": {},
     "output_type": "display_data"
    },
    {
     "data": {
      "application/vnd.jupyter.widget-view+json": {
       "model_id": "46736225da80495b88d207c7913a4e90",
       "version_major": 2,
       "version_minor": 0
      },
      "text/plain": [
       "60:   0%|          | 0/96 [00:00<?, ?it/s]"
      ]
     },
     "metadata": {},
     "output_type": "display_data"
    },
    {
     "data": {
      "application/vnd.jupyter.widget-view+json": {
       "model_id": "d8feff31fb4d422fa45ae58698c69411",
       "version_major": 2,
       "version_minor": 0
      },
      "text/plain": [
       "61:   0%|          | 0/96 [00:00<?, ?it/s]"
      ]
     },
     "metadata": {},
     "output_type": "display_data"
    },
    {
     "data": {
      "application/vnd.jupyter.widget-view+json": {
       "model_id": "1b709b461b034248984bad98ca28a49f",
       "version_major": 2,
       "version_minor": 0
      },
      "text/plain": [
       "62:   0%|          | 0/71 [00:00<?, ?it/s]"
      ]
     },
     "metadata": {},
     "output_type": "display_data"
    },
    {
     "data": {
      "application/vnd.jupyter.widget-view+json": {
       "model_id": "b6c8390bbebf4c03822dfd5a97eb6fb3",
       "version_major": 2,
       "version_minor": 0
      },
      "text/plain": [
       "63:   0%|          | 0/96 [00:00<?, ?it/s]"
      ]
     },
     "metadata": {},
     "output_type": "display_data"
    },
    {
     "data": {
      "application/vnd.jupyter.widget-view+json": {
       "model_id": "e5ae30474b2345c8ab5f2f1ac84e5660",
       "version_major": 2,
       "version_minor": 0
      },
      "text/plain": [
       "64:   0%|          | 0/96 [00:00<?, ?it/s]"
      ]
     },
     "metadata": {},
     "output_type": "display_data"
    },
    {
     "data": {
      "application/vnd.jupyter.widget-view+json": {
       "model_id": "e7f7c804bde64e07b30fe998cdb3b318",
       "version_major": 2,
       "version_minor": 0
      },
      "text/plain": [
       "65:   0%|          | 0/96 [00:00<?, ?it/s]"
      ]
     },
     "metadata": {},
     "output_type": "display_data"
    },
    {
     "data": {
      "application/vnd.jupyter.widget-view+json": {
       "model_id": "90329d4aada741c5bd0781f257116c92",
       "version_major": 2,
       "version_minor": 0
      },
      "text/plain": [
       "66:   0%|          | 0/96 [00:00<?, ?it/s]"
      ]
     },
     "metadata": {},
     "output_type": "display_data"
    },
    {
     "data": {
      "application/vnd.jupyter.widget-view+json": {
       "model_id": "358906b7d4fc40eabae47609863fbf6c",
       "version_major": 2,
       "version_minor": 0
      },
      "text/plain": [
       "67:   0%|          | 0/96 [00:00<?, ?it/s]"
      ]
     },
     "metadata": {},
     "output_type": "display_data"
    },
    {
     "data": {
      "application/vnd.jupyter.widget-view+json": {
       "model_id": "37c9843ae2ad4683856dff86fd37626c",
       "version_major": 2,
       "version_minor": 0
      },
      "text/plain": [
       "68:   0%|          | 0/123 [00:00<?, ?it/s]"
      ]
     },
     "metadata": {},
     "output_type": "display_data"
    },
    {
     "data": {
      "application/vnd.jupyter.widget-view+json": {
       "model_id": "a5259f231ec6425b85d5e00b0ce700dd",
       "version_major": 2,
       "version_minor": 0
      },
      "text/plain": [
       "69:   0%|          | 0/96 [00:00<?, ?it/s]"
      ]
     },
     "metadata": {},
     "output_type": "display_data"
    },
    {
     "data": {
      "application/vnd.jupyter.widget-view+json": {
       "model_id": "5a211c6f59014042b5fa75e0aefa2da4",
       "version_major": 2,
       "version_minor": 0
      },
      "text/plain": [
       "70:   0%|          | 0/157 [00:00<?, ?it/s]"
      ]
     },
     "metadata": {},
     "output_type": "display_data"
    },
    {
     "data": {
      "application/vnd.jupyter.widget-view+json": {
       "model_id": "695c39b383eb4f3e918446e4e9bfb3e6",
       "version_major": 2,
       "version_minor": 0
      },
      "text/plain": [
       "71:   0%|          | 0/94 [00:00<?, ?it/s]"
      ]
     },
     "metadata": {},
     "output_type": "display_data"
    },
    {
     "data": {
      "application/vnd.jupyter.widget-view+json": {
       "model_id": "8c762dd5623e4ef192c987ac7b4a7bd7",
       "version_major": 2,
       "version_minor": 0
      },
      "text/plain": [
       "72:   0%|          | 0/95 [00:00<?, ?it/s]"
      ]
     },
     "metadata": {},
     "output_type": "display_data"
    },
    {
     "data": {
      "application/vnd.jupyter.widget-view+json": {
       "model_id": "af8e3b16b81d4e08a583fe2f9f5a86a8",
       "version_major": 2,
       "version_minor": 0
      },
      "text/plain": [
       "73:   0%|          | 0/154 [00:00<?, ?it/s]"
      ]
     },
     "metadata": {},
     "output_type": "display_data"
    },
    {
     "data": {
      "application/vnd.jupyter.widget-view+json": {
       "model_id": "1dd5dbcf22c94958afc29e4d6610794e",
       "version_major": 2,
       "version_minor": 0
      },
      "text/plain": [
       "74:   0%|          | 0/96 [00:00<?, ?it/s]"
      ]
     },
     "metadata": {},
     "output_type": "display_data"
    },
    {
     "data": {
      "application/vnd.jupyter.widget-view+json": {
       "model_id": "e54cb44c9f354c239f0fc7e513700fa7",
       "version_major": 2,
       "version_minor": 0
      },
      "text/plain": [
       "75:   0%|          | 0/111 [00:00<?, ?it/s]"
      ]
     },
     "metadata": {},
     "output_type": "display_data"
    },
    {
     "data": {
      "application/vnd.jupyter.widget-view+json": {
       "model_id": "b4de59ce76fd43b5825428053fb70c47",
       "version_major": 2,
       "version_minor": 0
      },
      "text/plain": [
       "76:   0%|          | 0/79 [00:00<?, ?it/s]"
      ]
     },
     "metadata": {},
     "output_type": "display_data"
    },
    {
     "data": {
      "application/vnd.jupyter.widget-view+json": {
       "model_id": "0b485b00e66143a890a1074525c94b8c",
       "version_major": 2,
       "version_minor": 0
      },
      "text/plain": [
       "77:   0%|          | 0/96 [00:00<?, ?it/s]"
      ]
     },
     "metadata": {},
     "output_type": "display_data"
    },
    {
     "data": {
      "application/vnd.jupyter.widget-view+json": {
       "model_id": "1c7b12a7626544baa5bdc61d1d1b268a",
       "version_major": 2,
       "version_minor": 0
      },
      "text/plain": [
       "78:   0%|          | 0/96 [00:00<?, ?it/s]"
      ]
     },
     "metadata": {},
     "output_type": "display_data"
    },
    {
     "data": {
      "application/vnd.jupyter.widget-view+json": {
       "model_id": "66872bc99b834967bb62ad6059fa002a",
       "version_major": 2,
       "version_minor": 0
      },
      "text/plain": [
       "79:   0%|          | 0/141 [00:00<?, ?it/s]"
      ]
     },
     "metadata": {},
     "output_type": "display_data"
    },
    {
     "data": {
      "application/vnd.jupyter.widget-view+json": {
       "model_id": "ac265e8aa7bf4785b89f8105b3dcb551",
       "version_major": 2,
       "version_minor": 0
      },
      "text/plain": [
       "80:   0%|          | 0/96 [00:00<?, ?it/s]"
      ]
     },
     "metadata": {},
     "output_type": "display_data"
    },
    {
     "data": {
      "application/vnd.jupyter.widget-view+json": {
       "model_id": "27f244a91fba451b98080d79cb456c06",
       "version_major": 2,
       "version_minor": 0
      },
      "text/plain": [
       "81:   0%|          | 0/96 [00:00<?, ?it/s]"
      ]
     },
     "metadata": {},
     "output_type": "display_data"
    },
    {
     "data": {
      "application/vnd.jupyter.widget-view+json": {
       "model_id": "d0365dd298c34551bef84f93c8b65de0",
       "version_major": 2,
       "version_minor": 0
      },
      "text/plain": [
       "82:   0%|          | 0/96 [00:00<?, ?it/s]"
      ]
     },
     "metadata": {},
     "output_type": "display_data"
    },
    {
     "data": {
      "application/vnd.jupyter.widget-view+json": {
       "model_id": "f9cbe8bb32404a3db546aac63e37543c",
       "version_major": 2,
       "version_minor": 0
      },
      "text/plain": [
       "83:   0%|          | 0/96 [00:00<?, ?it/s]"
      ]
     },
     "metadata": {},
     "output_type": "display_data"
    },
    {
     "data": {
      "application/vnd.jupyter.widget-view+json": {
       "model_id": "a580d85f9d4d4518aeadb4ff4861c237",
       "version_major": 2,
       "version_minor": 0
      },
      "text/plain": [
       "84:   0%|          | 0/87 [00:00<?, ?it/s]"
      ]
     },
     "metadata": {},
     "output_type": "display_data"
    },
    {
     "data": {
      "application/vnd.jupyter.widget-view+json": {
       "model_id": "387d93491699435fb64995199b043231",
       "version_major": 2,
       "version_minor": 0
      },
      "text/plain": [
       "85:   0%|          | 0/96 [00:00<?, ?it/s]"
      ]
     },
     "metadata": {},
     "output_type": "display_data"
    },
    {
     "data": {
      "application/vnd.jupyter.widget-view+json": {
       "model_id": "caccb476226f4c9c9238d628f9c24d8d",
       "version_major": 2,
       "version_minor": 0
      },
      "text/plain": [
       "86:   0%|          | 0/96 [00:00<?, ?it/s]"
      ]
     },
     "metadata": {},
     "output_type": "display_data"
    },
    {
     "data": {
      "application/vnd.jupyter.widget-view+json": {
       "model_id": "4af3e9e4ac0748758cad767ff4c5f952",
       "version_major": 2,
       "version_minor": 0
      },
      "text/plain": [
       "87:   0%|          | 0/96 [00:00<?, ?it/s]"
      ]
     },
     "metadata": {},
     "output_type": "display_data"
    },
    {
     "data": {
      "application/vnd.jupyter.widget-view+json": {
       "model_id": "1e25f5ea8f05407388a71e0afdef5d1d",
       "version_major": 2,
       "version_minor": 0
      },
      "text/plain": [
       "88:   0%|          | 0/96 [00:00<?, ?it/s]"
      ]
     },
     "metadata": {},
     "output_type": "display_data"
    },
    {
     "data": {
      "application/vnd.jupyter.widget-view+json": {
       "model_id": "b2f199b2a92a43e6aa98615ead2af363",
       "version_major": 2,
       "version_minor": 0
      },
      "text/plain": [
       "89:   0%|          | 0/112 [00:00<?, ?it/s]"
      ]
     },
     "metadata": {},
     "output_type": "display_data"
    },
    {
     "data": {
      "application/vnd.jupyter.widget-view+json": {
       "model_id": "8a58d4e0fb3c4466b4512bfd4c48b7df",
       "version_major": 2,
       "version_minor": 0
      },
      "text/plain": [
       "90:   0%|          | 0/96 [00:00<?, ?it/s]"
      ]
     },
     "metadata": {},
     "output_type": "display_data"
    },
    {
     "data": {
      "application/vnd.jupyter.widget-view+json": {
       "model_id": "0a75a87d142c4332b1debcd74abf9e51",
       "version_major": 2,
       "version_minor": 0
      },
      "text/plain": [
       "91:   0%|          | 0/96 [00:00<?, ?it/s]"
      ]
     },
     "metadata": {},
     "output_type": "display_data"
    },
    {
     "data": {
      "application/vnd.jupyter.widget-view+json": {
       "model_id": "9911e758a6db4156b69a3158af94b6b9",
       "version_major": 2,
       "version_minor": 0
      },
      "text/plain": [
       "92:   0%|          | 0/96 [00:00<?, ?it/s]"
      ]
     },
     "metadata": {},
     "output_type": "display_data"
    },
    {
     "data": {
      "application/vnd.jupyter.widget-view+json": {
       "model_id": "748bde2157834f5ab2cf97b8db33fcdb",
       "version_major": 2,
       "version_minor": 0
      },
      "text/plain": [
       "93:   0%|          | 0/104 [00:00<?, ?it/s]"
      ]
     },
     "metadata": {},
     "output_type": "display_data"
    },
    {
     "data": {
      "application/vnd.jupyter.widget-view+json": {
       "model_id": "b09ad34929a049f88025f1faaf680d8e",
       "version_major": 2,
       "version_minor": 0
      },
      "text/plain": [
       "94:   0%|          | 0/96 [00:00<?, ?it/s]"
      ]
     },
     "metadata": {},
     "output_type": "display_data"
    },
    {
     "data": {
      "application/vnd.jupyter.widget-view+json": {
       "model_id": "5b57bafcadc549cdb4787ce13ca5d2af",
       "version_major": 2,
       "version_minor": 0
      },
      "text/plain": [
       "95:   0%|          | 0/96 [00:00<?, ?it/s]"
      ]
     },
     "metadata": {},
     "output_type": "display_data"
    },
    {
     "data": {
      "application/vnd.jupyter.widget-view+json": {
       "model_id": "51eb5900f8174409b3eeb75c1f845187",
       "version_major": 2,
       "version_minor": 0
      },
      "text/plain": [
       "96:   0%|          | 0/95 [00:00<?, ?it/s]"
      ]
     },
     "metadata": {},
     "output_type": "display_data"
    },
    {
     "data": {
      "application/vnd.jupyter.widget-view+json": {
       "model_id": "8d2ad8282fc44c5a91397447ce733eb6",
       "version_major": 2,
       "version_minor": 0
      },
      "text/plain": [
       "97:   0%|          | 0/96 [00:00<?, ?it/s]"
      ]
     },
     "metadata": {},
     "output_type": "display_data"
    },
    {
     "data": {
      "application/vnd.jupyter.widget-view+json": {
       "model_id": "e9e0cfb87f3c47d2ba16243ddc395886",
       "version_major": 2,
       "version_minor": 0
      },
      "text/plain": [
       "98:   0%|          | 0/96 [00:00<?, ?it/s]"
      ]
     },
     "metadata": {},
     "output_type": "display_data"
    },
    {
     "data": {
      "application/vnd.jupyter.widget-view+json": {
       "model_id": "2ac9f82b16d046858b2e7a5424e78d10",
       "version_major": 2,
       "version_minor": 0
      },
      "text/plain": [
       "99:   0%|          | 0/96 [00:00<?, ?it/s]"
      ]
     },
     "metadata": {},
     "output_type": "display_data"
    }
   ],
   "source": [
    "img_gists = {char: [str(list(gist_extractor(img))) for img in tqdm(images[char], desc=str(i))] for i, char in enumerate(images)}"
   ]
  },
  {
   "cell_type": "code",
   "execution_count": 18,
   "metadata": {},
   "outputs": [],
   "source": [
    "with open('/Users/kx/Desktop/gist.json', 'w') as f:\n",
    "    json.dump(img_gists, f)"
   ]
  },
  {
   "cell_type": "code",
   "execution_count": null,
   "metadata": {},
   "outputs": [],
   "source": []
  }
 ],
 "metadata": {
  "kernelspec": {
   "display_name": "Python 2",
   "language": "python",
   "name": "python2"
  },
  "language_info": {
   "codemirror_mode": {
    "name": "ipython",
    "version": 2
   },
   "file_extension": ".py",
   "mimetype": "text/x-python",
   "name": "python",
   "nbconvert_exporter": "python",
   "pygments_lexer": "ipython2",
   "version": "2.7.16"
  }
 },
 "nbformat": 4,
 "nbformat_minor": 2
}
