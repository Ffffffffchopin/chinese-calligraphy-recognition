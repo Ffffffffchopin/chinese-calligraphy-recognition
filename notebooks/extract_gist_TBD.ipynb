{
 "cells": [
  {
   "cell_type": "markdown",
   "metadata": {},
   "source": [
    "GIST Playground"
   ]
  },
  {
   "cell_type": "code",
   "execution_count": 104,
   "metadata": {},
   "outputs": [],
   "source": [
    "import os\n",
    "import glob\n",
    "import gist\n",
    "import tqdm\n",
    "from tqdm.notebook import tqdm\n",
    "\n",
    "import numpy as np\n",
    "import matplotlib.image as mpimg"
   ]
  },
  {
   "cell_type": "markdown",
   "metadata": {},
   "source": [
    "## Clustering"
   ]
  },
  {
   "cell_type": "code",
   "execution_count": 17,
   "metadata": {},
   "outputs": [],
   "source": [
    "# read data\n",
    "data_dir = 'data/clustering'\n",
    "images = {}\n",
    "\n",
    "for file in glob.glob(data_dir + '/*/*/*'):\n",
    "    _, _, char, group, _ = file.split('/')\n",
    "    img = mpimg.imread(file)\n",
    "    if char not in images:\n",
    "        images[char] = {}\n",
    "    if group not in images[char]:\n",
    "        images[char][group] = []\n",
    "    images[char][group].append(img)\n",
    "    \n",
    "    \n",
    "def estimate_features(images, extractor):\n",
    "\n",
    "    features = {}\n",
    "    for char in images:\n",
    "        features[char] = {}\n",
    "        for var in images[char]:\n",
    "            var_fs = [extractor(image) for image in images[char][var]]\n",
    "            features[char][var] = list(sum(var_fs) / len(var_fs))\n",
    "            \n",
    "    return features"
   ]
  },
  {
   "cell_type": "code",
   "execution_count": 76,
   "metadata": {},
   "outputs": [],
   "source": [
    "def gist_extractor(image):\n",
    "    if len(image.shape) == 2:\n",
    "        image = np.expand_dims(image, 3).repeat(3, axis=2)\n",
    "        \n",
    "    nblocks = 4\n",
    "    ops = (8, 8, 4)\n",
    "    return gist.extract(\n",
    "        image.astype('uint8'), \n",
    "        nblocks=nblocks, \n",
    "        orientations_per_scale=ops)[:nblocks * sum(ops)]\n",
    "    "
   ]
  },
  {
   "cell_type": "code",
   "execution_count": 83,
   "metadata": {},
   "outputs": [
    {
     "data": {
      "text/plain": [
       "\"{'\\\\xe6\\\\x97\\\\xb6': {'1': [0.0015111316, 0.018898437, 0.027977074, 0.0034330564, 0.0066686897, 0.052109905, 0.055036828, 0.020012747, 0.028166553, 0.036068711, 0.050587542, 0.030048121, 0.0021482301, 0.010670944, 0.0077601885, 0.0019177601, 0.0012125715, 0.015756175, 0.021510845, 0.0045908499, 0.0069448147, 0.036588911, 0.041479416, 0.020027924, 0.022042524, 0.030591406, 0.038264733, 0.024980277, 0.0023687973, 0.010813985, 0.0051449751, 0.001006584, 0.0011750928, 0.010151123, 0.011482493, 0.0039293538, 0.0055759302, 0.027036577, 0.028412314, 0.015754092, 0.020198103, 0.028174186, 0.026877947, 0.027990775, 0.0024816238, 0.011602182, 0.0042642024, 0.00065671629, 0.0010374619, 0.009136619, 0.0095384559, 0.0034771683, 0.0047351136, 0.026160613, 0.025278546, 0.012957716, 0.01842788, 0.028725347, 0.024605583, 0.023600632, 0.0016204322, 0.012281227, 0.0038149755, 0.00081976259, 0.0011084549, 0.0089072026, 0.0085724862, 0.0031389128, 0.0060014562, 0.030814383, 0.026609214, 0.012660619, 0.016619805, 0.038643382, 0.03064415, 0.020898998, 0.0017969505, 0.014286765, 0.0044287839, 0.00095200865], '3': [0.00072187779, 0.012830353, 0.034521364, 0.0081379358, 0.00056832482, 0.013216617, 0.031199321, 0.0040017427, 0.011235365, 0.026497707, 0.029439751, 0.010495272, 0.00691937, 0.026547544, 0.030145541, 0.0048251105, 0.00052083842, 0.01329615, 0.025446035, 0.009089632, 0.00047975982, 0.014413595, 0.031622399, 0.0033178204, 0.011335136, 0.022333881, 0.029032888, 0.010082083, 0.0079266261, 0.021818824, 0.017185533, 0.0032128296, 0.00032672531, 0.011509355, 0.018529585, 0.0086360583, 0.00036702328, 0.016213614, 0.026891999, 0.0033828884, 0.0082672639, 0.017250651, 0.023249421, 0.010108162, 0.007191821, 0.016653366, 0.0068765357, 0.0033210034, 0.00039785396, 0.010028819, 0.016704932, 0.0077444515, 0.00049832481, 0.018590899, 0.025924079, 0.0036334556, 0.0073142201, 0.018329358, 0.021409484, 0.015555207, 0.0078733377, 0.019193517, 0.0058268141, 0.0034270885, 0.00045953644, 0.010718757, 0.016583858, 0.0056573022, 0.00064197852, 0.024150509, 0.02761161, 0.0037931418, 0.0083123855, 0.032666415, 0.021335028, 0.018834453, 0.0058113318, 0.022663951, 0.005791368, 0.0045186677], '2': [0.00077401358, 0.019502381, 0.037084199, 0.0056013889, 0.0023597053, 0.034422174, 0.037212074, 0.01304752, 0.025832728, 0.029320328, 0.03168435, 0.021854613, 0.0036391739, 0.013899239, 0.025331039, 0.01235847, 0.00049960153, 0.016095808, 0.025845602, 0.0059678811, 0.0018325653, 0.029565401, 0.026480636, 0.010381363, 0.022966474, 0.02387359, 0.027740782, 0.020703001, 0.0041958336, 0.013485008, 0.016704209, 0.0068434682, 0.00039917068, 0.011720842, 0.015798092, 0.0070879259, 0.0015854761, 0.025673743, 0.017661169, 0.0098169288, 0.019817185, 0.024150442, 0.025416061, 0.022027668, 0.0045421869, 0.015283521, 0.010338305, 0.0039512003, 0.00041051224, 0.011287203, 0.010884246, 0.0056452793, 0.0018167347, 0.02432704, 0.015919771, 0.009371765, 0.016546533, 0.026401013, 0.026912376, 0.02437323, 0.0041249916, 0.015290356, 0.0094732977, 0.0043970225, 0.00043109205, 0.011233332, 0.0093167163, 0.0046231952, 0.0018517969, 0.027123012, 0.019836493, 0.0084962416, 0.016631275, 0.038532097, 0.030612627, 0.024757873, 0.0034492253, 0.016208678, 0.009829687, 0.0052187527]}, '\\\\xe4\\\\xba\\\\x8e': {'1': [0.00090755243, 0.010382717, 0.010050578, 0.0063453764, 0.019963024, 0.043318886, 0.049632575, 0.02698081, 0.01671375, 0.032085612, 0.028309153, 0.009000632, 0.0044516935, 0.0079045612, 0.0055536074, 0.0050971126, 0.0006033071, 0.010328229, 0.0077979239, 0.0045933146, 0.016848771, 0.028640602, 0.028093269, 0.024270222, 0.012053479, 0.026822848, 0.023788061, 0.0094442917, 0.0033268023, 0.0078966161, 0.0053300564, 0.0052427365, 0.00047421147, 0.01105605, 0.0071493108, 0.0038877439, 0.012123213, 0.021839255, 0.014063416, 0.015687371, 0.010805855, 0.025919519, 0.022200452, 0.010702773, 0.0027182149, 0.0088703539, 0.0060320166, 0.0052077351, 0.00053817173, 0.014455791, 0.0080840662, 0.004015747, 0.011504665, 0.019932421, 0.011240602, 0.017174536, 0.011201198, 0.025574895, 0.02245573, 0.014252925, 0.002324315, 0.011656813, 0.0059848353, 0.0050657219, 0.00059052167, 0.017184427, 0.010113153, 0.0038929163, 0.011367599, 0.02371536, 0.011582672, 0.016332626, 0.012278456, 0.030364282, 0.021502443, 0.014592426, 0.0022112636, 0.015762139, 0.0062784199, 0.0066984044], '3': [0.00062787777, 0.003088241, 0.0023448514, 0.001217739, 0.012854058, 0.019439163, 0.015194251, 0.0097557772, 0.016578613, 0.031196993, 0.038844582, 0.011548867, 0.00077006384, 0.0060166814, 0.0012040762, 0.0010334667, 0.00064033555, 0.0028181006, 0.0020194659, 0.0010766155, 0.013760135, 0.018675702, 0.010538481, 0.0079966886, 0.016710225, 0.025865227, 0.023031423, 0.0063384064, 0.0006355315, 0.0049139308, 0.00083928381, 0.00052928115, 0.00065919454, 0.0022609069, 0.0019037656, 0.0011668283, 0.016511222, 0.018254349, 0.010581587, 0.0083113126, 0.018135017, 0.021374222, 0.0092908721, 0.0045420281, 0.00055170374, 0.0044190944, 0.00043582183, 0.00027987367, 0.00086163264, 0.0022282731, 0.0021715427, 0.001123002, 0.01986178, 0.021110879, 0.012302529, 0.0094576711, 0.021711454, 0.024461173, 0.0077930647, 0.0070044571, 0.00069392944, 0.0054439302, 0.0003174395, 0.00036697905, 0.00098746596, 0.0025742874, 0.002448706, 0.0011173163, 0.028567884, 0.033738233, 0.014012591, 0.011253759, 0.02596971, 0.026755054, 0.0078453766, 0.010936433, 0.00094560441, 0.0051061581, 0.00033418566, 0.00050048379], '2': [0.00087511481, 0.012813875, 0.0095031029, 0.0010702318, 0.02664246, 0.041227177, 0.051797058, 0.03103435, 0.017891854, 0.028907141, 0.020837091, 0.0078334827, 0.012301654, 0.015585009, 0.018872451, 0.0098829148, 0.00057554001, 0.015350016, 0.0089027239, 0.00068477046, 0.018620972, 0.026874948, 0.028254751, 0.024545485, 0.015584257, 0.024107166, 0.019967081, 0.0079731997, 0.010913631, 0.014652208, 0.019534823, 0.0085361954, 0.00040007988, 0.01542327, 0.0085553247, 0.00066612253, 0.012458315, 0.022241231, 0.016492957, 0.014967805, 0.015803445, 0.020901278, 0.01482467, 0.0083388127, 0.0093165049, 0.013564717, 0.018123461, 0.0091085434, 0.00054164004, 0.014134062, 0.0087332046, 0.00059350033, 0.012000838, 0.023254689, 0.01413831, 0.01165352, 0.013738692, 0.019220881, 0.012522835, 0.0092105437, 0.0083203502, 0.012256412, 0.01508826, 0.0087916972, 0.00066698063, 0.016774159, 0.0092694378, 0.00079548359, 0.011893909, 0.0291827, 0.014441142, 0.013272843, 0.014585214, 0.024037849, 0.013322199, 0.0070991619, 0.0073785512, 0.014852673, 0.011206303, 0.0085125752]}}\""
      ]
     },
     "execution_count": 83,
     "metadata": {},
     "output_type": "execute_result"
    }
   ],
   "source": [
    "gists = estimate_features(images, gist_extractor)\n",
    "str(gists)"
   ]
  },
  {
   "cell_type": "markdown",
   "metadata": {},
   "source": [
    "## Clean"
   ]
  },
  {
   "cell_type": "code",
   "execution_count": 132,
   "metadata": {},
   "outputs": [],
   "source": [
    "# read data\n",
    "data_dir = 'data/shufadict/clean'\n",
    "ext_data_dir = 'data/hanwen360/clean'\n",
    "images = {}\n",
    "\n",
    "for file in glob.glob(data_dir + '/*/*.png') + (glob.glob(ext_data_dir + '/*/*.png')):\n",
    "    char = file.split('/')[-2]\n",
    "    img = mpimg.imread(file)\n",
    "    if char not in images:\n",
    "        images[char] = []\n",
    "    images[char].append(img)"
   ]
  },
  {
   "cell_type": "code",
   "execution_count": 133,
   "metadata": {
    "scrolled": true
   },
   "outputs": [
    {
     "data": {
      "application/vnd.jupyter.widget-view+json": {
       "model_id": "f053860424fe4f91bb922cb3ac7af2ca",
       "version_major": 2,
       "version_minor": 0
      },
      "text/plain": [
       "0:   0%|          | 0/96 [00:00<?, ?it/s]"
      ]
     },
     "metadata": {},
     "output_type": "display_data"
    },
    {
     "data": {
      "application/vnd.jupyter.widget-view+json": {
       "model_id": "d872275eb59b4490b9d6035c80445973",
       "version_major": 2,
       "version_minor": 0
      },
      "text/plain": [
       "1:   0%|          | 0/96 [00:00<?, ?it/s]"
      ]
     },
     "metadata": {},
     "output_type": "display_data"
    },
    {
     "data": {
      "application/vnd.jupyter.widget-view+json": {
       "model_id": "e81d383e84364ef1998459e53e6ac203",
       "version_major": 2,
       "version_minor": 0
      },
      "text/plain": [
       "2:   0%|          | 0/96 [00:00<?, ?it/s]"
      ]
     },
     "metadata": {},
     "output_type": "display_data"
    },
    {
     "data": {
      "application/vnd.jupyter.widget-view+json": {
       "model_id": "fadba1cfbbab437f9427c9586f36d3af",
       "version_major": 2,
       "version_minor": 0
      },
      "text/plain": [
       "3:   0%|          | 0/96 [00:00<?, ?it/s]"
      ]
     },
     "metadata": {},
     "output_type": "display_data"
    },
    {
     "data": {
      "application/vnd.jupyter.widget-view+json": {
       "model_id": "d3d059274d2142eaba2f796ba154fbaf",
       "version_major": 2,
       "version_minor": 0
      },
      "text/plain": [
       "4:   0%|          | 0/96 [00:00<?, ?it/s]"
      ]
     },
     "metadata": {},
     "output_type": "display_data"
    },
    {
     "data": {
      "application/vnd.jupyter.widget-view+json": {
       "model_id": "9ec6f1b7a6ff412a8d71f6c0ef49d159",
       "version_major": 2,
       "version_minor": 0
      },
      "text/plain": [
       "5:   0%|          | 0/96 [00:00<?, ?it/s]"
      ]
     },
     "metadata": {},
     "output_type": "display_data"
    },
    {
     "data": {
      "application/vnd.jupyter.widget-view+json": {
       "model_id": "0304f5b1da964881bacb4c3f665ad59e",
       "version_major": 2,
       "version_minor": 0
      },
      "text/plain": [
       "6:   0%|          | 0/96 [00:00<?, ?it/s]"
      ]
     },
     "metadata": {},
     "output_type": "display_data"
    },
    {
     "data": {
      "application/vnd.jupyter.widget-view+json": {
       "model_id": "2df185130e8c41d2891106b5a2180ae1",
       "version_major": 2,
       "version_minor": 0
      },
      "text/plain": [
       "7:   0%|          | 0/96 [00:00<?, ?it/s]"
      ]
     },
     "metadata": {},
     "output_type": "display_data"
    },
    {
     "data": {
      "application/vnd.jupyter.widget-view+json": {
       "model_id": "ba0684182e8b4cbdba05c92a6db38491",
       "version_major": 2,
       "version_minor": 0
      },
      "text/plain": [
       "8:   0%|          | 0/96 [00:00<?, ?it/s]"
      ]
     },
     "metadata": {},
     "output_type": "display_data"
    },
    {
     "data": {
      "application/vnd.jupyter.widget-view+json": {
       "model_id": "a9be7623ce3f48a59d3e942e2dbe0cc6",
       "version_major": 2,
       "version_minor": 0
      },
      "text/plain": [
       "9:   0%|          | 0/96 [00:00<?, ?it/s]"
      ]
     },
     "metadata": {},
     "output_type": "display_data"
    },
    {
     "data": {
      "application/vnd.jupyter.widget-view+json": {
       "model_id": "76988fa5bee54d48b7fb27686afc875a",
       "version_major": 2,
       "version_minor": 0
      },
      "text/plain": [
       "10:   0%|          | 0/96 [00:00<?, ?it/s]"
      ]
     },
     "metadata": {},
     "output_type": "display_data"
    },
    {
     "data": {
      "application/vnd.jupyter.widget-view+json": {
       "model_id": "00a4abf40b2841f19fbaf6ae806cca65",
       "version_major": 2,
       "version_minor": 0
      },
      "text/plain": [
       "11:   0%|          | 0/96 [00:00<?, ?it/s]"
      ]
     },
     "metadata": {},
     "output_type": "display_data"
    },
    {
     "data": {
      "application/vnd.jupyter.widget-view+json": {
       "model_id": "02dace291c72463d9cbdd185978609dd",
       "version_major": 2,
       "version_minor": 0
      },
      "text/plain": [
       "12:   0%|          | 0/104 [00:00<?, ?it/s]"
      ]
     },
     "metadata": {},
     "output_type": "display_data"
    },
    {
     "data": {
      "application/vnd.jupyter.widget-view+json": {
       "model_id": "a8e74d3ad7bd482daf60a504a0180e04",
       "version_major": 2,
       "version_minor": 0
      },
      "text/plain": [
       "13:   0%|          | 0/96 [00:00<?, ?it/s]"
      ]
     },
     "metadata": {},
     "output_type": "display_data"
    },
    {
     "data": {
      "application/vnd.jupyter.widget-view+json": {
       "model_id": "9a2e80f5c05d4aa2aa4f0c5691bb8402",
       "version_major": 2,
       "version_minor": 0
      },
      "text/plain": [
       "14:   0%|          | 0/80 [00:00<?, ?it/s]"
      ]
     },
     "metadata": {},
     "output_type": "display_data"
    },
    {
     "data": {
      "application/vnd.jupyter.widget-view+json": {
       "model_id": "6055432c5cd24cb0a01ed047f3ba52b6",
       "version_major": 2,
       "version_minor": 0
      },
      "text/plain": [
       "15:   0%|          | 0/96 [00:00<?, ?it/s]"
      ]
     },
     "metadata": {},
     "output_type": "display_data"
    },
    {
     "data": {
      "application/vnd.jupyter.widget-view+json": {
       "model_id": "9bbdb6bef48646b0b5d7afd46d6b2c0e",
       "version_major": 2,
       "version_minor": 0
      },
      "text/plain": [
       "16:   0%|          | 0/96 [00:00<?, ?it/s]"
      ]
     },
     "metadata": {},
     "output_type": "display_data"
    },
    {
     "data": {
      "application/vnd.jupyter.widget-view+json": {
       "model_id": "196b16a6e9be4aa1a862f69af034acf6",
       "version_major": 2,
       "version_minor": 0
      },
      "text/plain": [
       "17:   0%|          | 0/96 [00:00<?, ?it/s]"
      ]
     },
     "metadata": {},
     "output_type": "display_data"
    },
    {
     "data": {
      "application/vnd.jupyter.widget-view+json": {
       "model_id": "5662bd387f0c44ddb8d7c20775a04d0d",
       "version_major": 2,
       "version_minor": 0
      },
      "text/plain": [
       "18:   0%|          | 0/172 [00:00<?, ?it/s]"
      ]
     },
     "metadata": {},
     "output_type": "display_data"
    },
    {
     "data": {
      "application/vnd.jupyter.widget-view+json": {
       "model_id": "fb3c6168b91c4c60ad8eaf07328cf816",
       "version_major": 2,
       "version_minor": 0
      },
      "text/plain": [
       "19:   0%|          | 0/96 [00:00<?, ?it/s]"
      ]
     },
     "metadata": {},
     "output_type": "display_data"
    },
    {
     "data": {
      "application/vnd.jupyter.widget-view+json": {
       "model_id": "64ea7ec733ae4dc88d0de24da8a91fba",
       "version_major": 2,
       "version_minor": 0
      },
      "text/plain": [
       "20:   0%|          | 0/96 [00:00<?, ?it/s]"
      ]
     },
     "metadata": {},
     "output_type": "display_data"
    },
    {
     "data": {
      "application/vnd.jupyter.widget-view+json": {
       "model_id": "5def066aad844c049a71b401d39d6bb4",
       "version_major": 2,
       "version_minor": 0
      },
      "text/plain": [
       "21:   0%|          | 0/96 [00:00<?, ?it/s]"
      ]
     },
     "metadata": {},
     "output_type": "display_data"
    },
    {
     "data": {
      "application/vnd.jupyter.widget-view+json": {
       "model_id": "46aa56d7053146d88b4e9e7a58719426",
       "version_major": 2,
       "version_minor": 0
      },
      "text/plain": [
       "22:   0%|          | 0/96 [00:00<?, ?it/s]"
      ]
     },
     "metadata": {},
     "output_type": "display_data"
    },
    {
     "data": {
      "application/vnd.jupyter.widget-view+json": {
       "model_id": "498a745e210d4608b710693d029d99b4",
       "version_major": 2,
       "version_minor": 0
      },
      "text/plain": [
       "23:   0%|          | 0/96 [00:00<?, ?it/s]"
      ]
     },
     "metadata": {},
     "output_type": "display_data"
    },
    {
     "data": {
      "application/vnd.jupyter.widget-view+json": {
       "model_id": "61423b276d1f41e688b3062ebca86fa3",
       "version_major": 2,
       "version_minor": 0
      },
      "text/plain": [
       "24:   0%|          | 0/96 [00:00<?, ?it/s]"
      ]
     },
     "metadata": {},
     "output_type": "display_data"
    },
    {
     "data": {
      "application/vnd.jupyter.widget-view+json": {
       "model_id": "4fe793bbbe0e47c69cd107ae0dcacaad",
       "version_major": 2,
       "version_minor": 0
      },
      "text/plain": [
       "25:   0%|          | 0/169 [00:00<?, ?it/s]"
      ]
     },
     "metadata": {},
     "output_type": "display_data"
    },
    {
     "data": {
      "application/vnd.jupyter.widget-view+json": {
       "model_id": "33ad34d7fc614a0f9c4d5658af53ff10",
       "version_major": 2,
       "version_minor": 0
      },
      "text/plain": [
       "26:   0%|          | 0/103 [00:00<?, ?it/s]"
      ]
     },
     "metadata": {},
     "output_type": "display_data"
    },
    {
     "data": {
      "application/vnd.jupyter.widget-view+json": {
       "model_id": "17a2a92a2a954087a813d833d5844b51",
       "version_major": 2,
       "version_minor": 0
      },
      "text/plain": [
       "27:   0%|          | 0/96 [00:00<?, ?it/s]"
      ]
     },
     "metadata": {},
     "output_type": "display_data"
    },
    {
     "data": {
      "application/vnd.jupyter.widget-view+json": {
       "model_id": "77d0ae66e7a9438eaf8159c3c8672412",
       "version_major": 2,
       "version_minor": 0
      },
      "text/plain": [
       "28:   0%|          | 0/107 [00:00<?, ?it/s]"
      ]
     },
     "metadata": {},
     "output_type": "display_data"
    },
    {
     "data": {
      "application/vnd.jupyter.widget-view+json": {
       "model_id": "c2a637cdebf4447aad90350f574d4888",
       "version_major": 2,
       "version_minor": 0
      },
      "text/plain": [
       "29:   0%|          | 0/96 [00:00<?, ?it/s]"
      ]
     },
     "metadata": {},
     "output_type": "display_data"
    },
    {
     "data": {
      "application/vnd.jupyter.widget-view+json": {
       "model_id": "eced1e54c32b4f0ca5bc9a9a43f8f738",
       "version_major": 2,
       "version_minor": 0
      },
      "text/plain": [
       "30:   0%|          | 0/96 [00:00<?, ?it/s]"
      ]
     },
     "metadata": {},
     "output_type": "display_data"
    },
    {
     "data": {
      "application/vnd.jupyter.widget-view+json": {
       "model_id": "969331cd171f45c3b4891e13baba9b1d",
       "version_major": 2,
       "version_minor": 0
      },
      "text/plain": [
       "31:   0%|          | 0/104 [00:00<?, ?it/s]"
      ]
     },
     "metadata": {},
     "output_type": "display_data"
    },
    {
     "data": {
      "application/vnd.jupyter.widget-view+json": {
       "model_id": "59f85d71bbaa449a940b0ac25d608a95",
       "version_major": 2,
       "version_minor": 0
      },
      "text/plain": [
       "32:   0%|          | 0/116 [00:00<?, ?it/s]"
      ]
     },
     "metadata": {},
     "output_type": "display_data"
    },
    {
     "data": {
      "application/vnd.jupyter.widget-view+json": {
       "model_id": "2ac2588ac4334b0794c30ce607907575",
       "version_major": 2,
       "version_minor": 0
      },
      "text/plain": [
       "33:   0%|          | 0/96 [00:00<?, ?it/s]"
      ]
     },
     "metadata": {},
     "output_type": "display_data"
    },
    {
     "data": {
      "application/vnd.jupyter.widget-view+json": {
       "model_id": "e2bb6cb7ba82411b85b5a8f403e91d56",
       "version_major": 2,
       "version_minor": 0
      },
      "text/plain": [
       "34:   0%|          | 0/96 [00:00<?, ?it/s]"
      ]
     },
     "metadata": {},
     "output_type": "display_data"
    },
    {
     "data": {
      "application/vnd.jupyter.widget-view+json": {
       "model_id": "c0310a038ee54409a02d29bdb6b17b51",
       "version_major": 2,
       "version_minor": 0
      },
      "text/plain": [
       "35:   0%|          | 0/163 [00:00<?, ?it/s]"
      ]
     },
     "metadata": {},
     "output_type": "display_data"
    },
    {
     "data": {
      "application/vnd.jupyter.widget-view+json": {
       "model_id": "e1c23a5d204f421dac0e11a7345fea15",
       "version_major": 2,
       "version_minor": 0
      },
      "text/plain": [
       "36:   0%|          | 0/96 [00:00<?, ?it/s]"
      ]
     },
     "metadata": {},
     "output_type": "display_data"
    },
    {
     "data": {
      "application/vnd.jupyter.widget-view+json": {
       "model_id": "b61cb8dfbe834299ad3ca4ec49fa2a73",
       "version_major": 2,
       "version_minor": 0
      },
      "text/plain": [
       "37:   0%|          | 0/96 [00:00<?, ?it/s]"
      ]
     },
     "metadata": {},
     "output_type": "display_data"
    },
    {
     "data": {
      "application/vnd.jupyter.widget-view+json": {
       "model_id": "8807bfe39de94d1ba1055e63817aac51",
       "version_major": 2,
       "version_minor": 0
      },
      "text/plain": [
       "38:   0%|          | 0/96 [00:00<?, ?it/s]"
      ]
     },
     "metadata": {},
     "output_type": "display_data"
    },
    {
     "data": {
      "application/vnd.jupyter.widget-view+json": {
       "model_id": "073c6a9db909488a8419715ea5bfb79e",
       "version_major": 2,
       "version_minor": 0
      },
      "text/plain": [
       "39:   0%|          | 0/96 [00:00<?, ?it/s]"
      ]
     },
     "metadata": {},
     "output_type": "display_data"
    },
    {
     "data": {
      "application/vnd.jupyter.widget-view+json": {
       "model_id": "0ac5e09ac23a45b1b33daebcafe2ee86",
       "version_major": 2,
       "version_minor": 0
      },
      "text/plain": [
       "40:   0%|          | 0/96 [00:00<?, ?it/s]"
      ]
     },
     "metadata": {},
     "output_type": "display_data"
    },
    {
     "data": {
      "application/vnd.jupyter.widget-view+json": {
       "model_id": "8a27cbcbe77340ba8755cfe8f83dc6bc",
       "version_major": 2,
       "version_minor": 0
      },
      "text/plain": [
       "41:   0%|          | 0/96 [00:00<?, ?it/s]"
      ]
     },
     "metadata": {},
     "output_type": "display_data"
    },
    {
     "data": {
      "application/vnd.jupyter.widget-view+json": {
       "model_id": "54b8cd1fa4804cbd9c5a2ed3cba66b11",
       "version_major": 2,
       "version_minor": 0
      },
      "text/plain": [
       "42:   0%|          | 0/95 [00:00<?, ?it/s]"
      ]
     },
     "metadata": {},
     "output_type": "display_data"
    },
    {
     "data": {
      "application/vnd.jupyter.widget-view+json": {
       "model_id": "88f4911c9724441db1620b3163ea819c",
       "version_major": 2,
       "version_minor": 0
      },
      "text/plain": [
       "43:   0%|          | 0/96 [00:00<?, ?it/s]"
      ]
     },
     "metadata": {},
     "output_type": "display_data"
    },
    {
     "data": {
      "application/vnd.jupyter.widget-view+json": {
       "model_id": "b2c5be77a60149c98ee53c84ba2b2bea",
       "version_major": 2,
       "version_minor": 0
      },
      "text/plain": [
       "44:   0%|          | 0/96 [00:00<?, ?it/s]"
      ]
     },
     "metadata": {},
     "output_type": "display_data"
    },
    {
     "data": {
      "application/vnd.jupyter.widget-view+json": {
       "model_id": "82f2a9aea16b432e838cb2a975250303",
       "version_major": 2,
       "version_minor": 0
      },
      "text/plain": [
       "45:   0%|          | 0/96 [00:00<?, ?it/s]"
      ]
     },
     "metadata": {},
     "output_type": "display_data"
    },
    {
     "data": {
      "application/vnd.jupyter.widget-view+json": {
       "model_id": "1272b4005b444b0ca1a7a7b3019703dc",
       "version_major": 2,
       "version_minor": 0
      },
      "text/plain": [
       "46:   0%|          | 0/96 [00:00<?, ?it/s]"
      ]
     },
     "metadata": {},
     "output_type": "display_data"
    },
    {
     "data": {
      "application/vnd.jupyter.widget-view+json": {
       "model_id": "14ea9ad5093449088258c822af3335db",
       "version_major": 2,
       "version_minor": 0
      },
      "text/plain": [
       "47:   0%|          | 0/95 [00:00<?, ?it/s]"
      ]
     },
     "metadata": {},
     "output_type": "display_data"
    },
    {
     "data": {
      "application/vnd.jupyter.widget-view+json": {
       "model_id": "73e38ec18f624c68ad409706a391e3cc",
       "version_major": 2,
       "version_minor": 0
      },
      "text/plain": [
       "48:   0%|          | 0/96 [00:00<?, ?it/s]"
      ]
     },
     "metadata": {},
     "output_type": "display_data"
    },
    {
     "data": {
      "application/vnd.jupyter.widget-view+json": {
       "model_id": "15d73932a4f34e49987bd01e495eb31a",
       "version_major": 2,
       "version_minor": 0
      },
      "text/plain": [
       "49:   0%|          | 0/96 [00:00<?, ?it/s]"
      ]
     },
     "metadata": {},
     "output_type": "display_data"
    },
    {
     "data": {
      "application/vnd.jupyter.widget-view+json": {
       "model_id": "f0e70977d938434fa4b0cfec963d0772",
       "version_major": 2,
       "version_minor": 0
      },
      "text/plain": [
       "50:   0%|          | 0/96 [00:00<?, ?it/s]"
      ]
     },
     "metadata": {},
     "output_type": "display_data"
    },
    {
     "data": {
      "application/vnd.jupyter.widget-view+json": {
       "model_id": "1e9cbc1c28b9454fb78895c43fe11616",
       "version_major": 2,
       "version_minor": 0
      },
      "text/plain": [
       "51:   0%|          | 0/96 [00:00<?, ?it/s]"
      ]
     },
     "metadata": {},
     "output_type": "display_data"
    },
    {
     "data": {
      "application/vnd.jupyter.widget-view+json": {
       "model_id": "6c18e36dd9414a23baa4c6497b1ec740",
       "version_major": 2,
       "version_minor": 0
      },
      "text/plain": [
       "52:   0%|          | 0/96 [00:00<?, ?it/s]"
      ]
     },
     "metadata": {},
     "output_type": "display_data"
    },
    {
     "data": {
      "application/vnd.jupyter.widget-view+json": {
       "model_id": "e6b983b8206f47798c210bdb853c8009",
       "version_major": 2,
       "version_minor": 0
      },
      "text/plain": [
       "53:   0%|          | 0/111 [00:00<?, ?it/s]"
      ]
     },
     "metadata": {},
     "output_type": "display_data"
    },
    {
     "data": {
      "application/vnd.jupyter.widget-view+json": {
       "model_id": "2c8f9723a7c3478a9d75f8d1f44c4076",
       "version_major": 2,
       "version_minor": 0
      },
      "text/plain": [
       "54:   0%|          | 0/96 [00:00<?, ?it/s]"
      ]
     },
     "metadata": {},
     "output_type": "display_data"
    },
    {
     "data": {
      "application/vnd.jupyter.widget-view+json": {
       "model_id": "ddc89856d9dc4b7ab16afaf239f15f28",
       "version_major": 2,
       "version_minor": 0
      },
      "text/plain": [
       "55:   0%|          | 0/89 [00:00<?, ?it/s]"
      ]
     },
     "metadata": {},
     "output_type": "display_data"
    },
    {
     "data": {
      "application/vnd.jupyter.widget-view+json": {
       "model_id": "3e03fe760ed4438da29b0d97645f1a1c",
       "version_major": 2,
       "version_minor": 0
      },
      "text/plain": [
       "56:   0%|          | 0/96 [00:00<?, ?it/s]"
      ]
     },
     "metadata": {},
     "output_type": "display_data"
    },
    {
     "data": {
      "application/vnd.jupyter.widget-view+json": {
       "model_id": "26dbe39d7864424db85f8807e0d2adf5",
       "version_major": 2,
       "version_minor": 0
      },
      "text/plain": [
       "57:   0%|          | 0/96 [00:00<?, ?it/s]"
      ]
     },
     "metadata": {},
     "output_type": "display_data"
    },
    {
     "data": {
      "application/vnd.jupyter.widget-view+json": {
       "model_id": "45c33f7768f542ce9b03307ac2171487",
       "version_major": 2,
       "version_minor": 0
      },
      "text/plain": [
       "58:   0%|          | 0/96 [00:00<?, ?it/s]"
      ]
     },
     "metadata": {},
     "output_type": "display_data"
    },
    {
     "data": {
      "application/vnd.jupyter.widget-view+json": {
       "model_id": "8dc5a392e5d6441093d4dacf84373564",
       "version_major": 2,
       "version_minor": 0
      },
      "text/plain": [
       "59:   0%|          | 0/96 [00:00<?, ?it/s]"
      ]
     },
     "metadata": {},
     "output_type": "display_data"
    },
    {
     "data": {
      "application/vnd.jupyter.widget-view+json": {
       "model_id": "54a0648e51e647169f7583cfb0a327a0",
       "version_major": 2,
       "version_minor": 0
      },
      "text/plain": [
       "60:   0%|          | 0/96 [00:00<?, ?it/s]"
      ]
     },
     "metadata": {},
     "output_type": "display_data"
    },
    {
     "data": {
      "application/vnd.jupyter.widget-view+json": {
       "model_id": "bc8c2c30c0bd4d7d9e5c96ab3ff4cafd",
       "version_major": 2,
       "version_minor": 0
      },
      "text/plain": [
       "61:   0%|          | 0/96 [00:00<?, ?it/s]"
      ]
     },
     "metadata": {},
     "output_type": "display_data"
    },
    {
     "data": {
      "application/vnd.jupyter.widget-view+json": {
       "model_id": "ac7ff46bcbc448968fd19ee7e2a877dd",
       "version_major": 2,
       "version_minor": 0
      },
      "text/plain": [
       "62:   0%|          | 0/71 [00:00<?, ?it/s]"
      ]
     },
     "metadata": {},
     "output_type": "display_data"
    },
    {
     "data": {
      "application/vnd.jupyter.widget-view+json": {
       "model_id": "80b7622b784442a5849fed5e15f5a778",
       "version_major": 2,
       "version_minor": 0
      },
      "text/plain": [
       "63:   0%|          | 0/96 [00:00<?, ?it/s]"
      ]
     },
     "metadata": {},
     "output_type": "display_data"
    },
    {
     "data": {
      "application/vnd.jupyter.widget-view+json": {
       "model_id": "04d4c661210c4b569e23c11826840805",
       "version_major": 2,
       "version_minor": 0
      },
      "text/plain": [
       "64:   0%|          | 0/96 [00:00<?, ?it/s]"
      ]
     },
     "metadata": {},
     "output_type": "display_data"
    },
    {
     "data": {
      "application/vnd.jupyter.widget-view+json": {
       "model_id": "2dba1fe9d4634cb8be252b31c7cd83bd",
       "version_major": 2,
       "version_minor": 0
      },
      "text/plain": [
       "65:   0%|          | 0/96 [00:00<?, ?it/s]"
      ]
     },
     "metadata": {},
     "output_type": "display_data"
    },
    {
     "data": {
      "application/vnd.jupyter.widget-view+json": {
       "model_id": "21b01e92e1e0446b867c2427db44449a",
       "version_major": 2,
       "version_minor": 0
      },
      "text/plain": [
       "66:   0%|          | 0/96 [00:00<?, ?it/s]"
      ]
     },
     "metadata": {},
     "output_type": "display_data"
    },
    {
     "data": {
      "application/vnd.jupyter.widget-view+json": {
       "model_id": "a297e488ae204aeab265d2b09fd4b76d",
       "version_major": 2,
       "version_minor": 0
      },
      "text/plain": [
       "67:   0%|          | 0/96 [00:00<?, ?it/s]"
      ]
     },
     "metadata": {},
     "output_type": "display_data"
    },
    {
     "data": {
      "application/vnd.jupyter.widget-view+json": {
       "model_id": "492922c8949846d2a22b778fb246f64d",
       "version_major": 2,
       "version_minor": 0
      },
      "text/plain": [
       "68:   0%|          | 0/123 [00:00<?, ?it/s]"
      ]
     },
     "metadata": {},
     "output_type": "display_data"
    },
    {
     "data": {
      "application/vnd.jupyter.widget-view+json": {
       "model_id": "775478a018c14cfc89a2602c5e277c44",
       "version_major": 2,
       "version_minor": 0
      },
      "text/plain": [
       "69:   0%|          | 0/96 [00:00<?, ?it/s]"
      ]
     },
     "metadata": {},
     "output_type": "display_data"
    },
    {
     "data": {
      "application/vnd.jupyter.widget-view+json": {
       "model_id": "51ce39d7fd7c4676b095e4d65ee30165",
       "version_major": 2,
       "version_minor": 0
      },
      "text/plain": [
       "70:   0%|          | 0/157 [00:00<?, ?it/s]"
      ]
     },
     "metadata": {},
     "output_type": "display_data"
    },
    {
     "data": {
      "application/vnd.jupyter.widget-view+json": {
       "model_id": "83d560c608034f1cb3f5f7b4248044f7",
       "version_major": 2,
       "version_minor": 0
      },
      "text/plain": [
       "71:   0%|          | 0/94 [00:00<?, ?it/s]"
      ]
     },
     "metadata": {},
     "output_type": "display_data"
    },
    {
     "data": {
      "application/vnd.jupyter.widget-view+json": {
       "model_id": "12a6c217c2cc4fb5aafb4ba961c3d1dc",
       "version_major": 2,
       "version_minor": 0
      },
      "text/plain": [
       "72:   0%|          | 0/95 [00:00<?, ?it/s]"
      ]
     },
     "metadata": {},
     "output_type": "display_data"
    },
    {
     "data": {
      "application/vnd.jupyter.widget-view+json": {
       "model_id": "94755e32ca094db4a759ba23630e968f",
       "version_major": 2,
       "version_minor": 0
      },
      "text/plain": [
       "73:   0%|          | 0/154 [00:00<?, ?it/s]"
      ]
     },
     "metadata": {},
     "output_type": "display_data"
    },
    {
     "data": {
      "application/vnd.jupyter.widget-view+json": {
       "model_id": "85d85d8273634fd288fc24e205b7bfc4",
       "version_major": 2,
       "version_minor": 0
      },
      "text/plain": [
       "74:   0%|          | 0/96 [00:00<?, ?it/s]"
      ]
     },
     "metadata": {},
     "output_type": "display_data"
    },
    {
     "data": {
      "application/vnd.jupyter.widget-view+json": {
       "model_id": "7a52ef6f3b0943c6a9f13746182b472a",
       "version_major": 2,
       "version_minor": 0
      },
      "text/plain": [
       "75:   0%|          | 0/111 [00:00<?, ?it/s]"
      ]
     },
     "metadata": {},
     "output_type": "display_data"
    },
    {
     "data": {
      "application/vnd.jupyter.widget-view+json": {
       "model_id": "08f9cacee89649428b1ae435e7e75d0c",
       "version_major": 2,
       "version_minor": 0
      },
      "text/plain": [
       "76:   0%|          | 0/79 [00:00<?, ?it/s]"
      ]
     },
     "metadata": {},
     "output_type": "display_data"
    },
    {
     "data": {
      "application/vnd.jupyter.widget-view+json": {
       "model_id": "69df7e5a7c5c4cb5aed8a5095c56e927",
       "version_major": 2,
       "version_minor": 0
      },
      "text/plain": [
       "77:   0%|          | 0/96 [00:00<?, ?it/s]"
      ]
     },
     "metadata": {},
     "output_type": "display_data"
    },
    {
     "data": {
      "application/vnd.jupyter.widget-view+json": {
       "model_id": "8d4cf65d618f42bf8c0c4ac34db8cc8d",
       "version_major": 2,
       "version_minor": 0
      },
      "text/plain": [
       "78:   0%|          | 0/96 [00:00<?, ?it/s]"
      ]
     },
     "metadata": {},
     "output_type": "display_data"
    },
    {
     "data": {
      "application/vnd.jupyter.widget-view+json": {
       "model_id": "588bb61c13604eef892bb3b5275a029e",
       "version_major": 2,
       "version_minor": 0
      },
      "text/plain": [
       "79:   0%|          | 0/141 [00:00<?, ?it/s]"
      ]
     },
     "metadata": {},
     "output_type": "display_data"
    },
    {
     "data": {
      "application/vnd.jupyter.widget-view+json": {
       "model_id": "4268a752ace34530b5c545b65ab77fa1",
       "version_major": 2,
       "version_minor": 0
      },
      "text/plain": [
       "80:   0%|          | 0/96 [00:00<?, ?it/s]"
      ]
     },
     "metadata": {},
     "output_type": "display_data"
    },
    {
     "data": {
      "application/vnd.jupyter.widget-view+json": {
       "model_id": "24a1e2ec15474bd0ac40f20e2776aa4d",
       "version_major": 2,
       "version_minor": 0
      },
      "text/plain": [
       "81:   0%|          | 0/96 [00:00<?, ?it/s]"
      ]
     },
     "metadata": {},
     "output_type": "display_data"
    },
    {
     "data": {
      "application/vnd.jupyter.widget-view+json": {
       "model_id": "50037150161f497398fd5d3a1d311a94",
       "version_major": 2,
       "version_minor": 0
      },
      "text/plain": [
       "82:   0%|          | 0/96 [00:00<?, ?it/s]"
      ]
     },
     "metadata": {},
     "output_type": "display_data"
    },
    {
     "data": {
      "application/vnd.jupyter.widget-view+json": {
       "model_id": "97f9cc131f804f50ad0043f87da60964",
       "version_major": 2,
       "version_minor": 0
      },
      "text/plain": [
       "83:   0%|          | 0/96 [00:00<?, ?it/s]"
      ]
     },
     "metadata": {},
     "output_type": "display_data"
    },
    {
     "data": {
      "application/vnd.jupyter.widget-view+json": {
       "model_id": "d74c93104aba4e1d999a10c9855e6a04",
       "version_major": 2,
       "version_minor": 0
      },
      "text/plain": [
       "84:   0%|          | 0/87 [00:00<?, ?it/s]"
      ]
     },
     "metadata": {},
     "output_type": "display_data"
    },
    {
     "data": {
      "application/vnd.jupyter.widget-view+json": {
       "model_id": "75152107b7614ffd8afd9e5acb38ba03",
       "version_major": 2,
       "version_minor": 0
      },
      "text/plain": [
       "85:   0%|          | 0/96 [00:00<?, ?it/s]"
      ]
     },
     "metadata": {},
     "output_type": "display_data"
    },
    {
     "data": {
      "application/vnd.jupyter.widget-view+json": {
       "model_id": "0f095908c7984d4dbd3e0b6433193e92",
       "version_major": 2,
       "version_minor": 0
      },
      "text/plain": [
       "86:   0%|          | 0/96 [00:00<?, ?it/s]"
      ]
     },
     "metadata": {},
     "output_type": "display_data"
    },
    {
     "data": {
      "application/vnd.jupyter.widget-view+json": {
       "model_id": "2fecdb03013c436eba8977c4df3985f6",
       "version_major": 2,
       "version_minor": 0
      },
      "text/plain": [
       "87:   0%|          | 0/96 [00:00<?, ?it/s]"
      ]
     },
     "metadata": {},
     "output_type": "display_data"
    },
    {
     "data": {
      "application/vnd.jupyter.widget-view+json": {
       "model_id": "842cd8816a3049dca13ea6d775dcfcfc",
       "version_major": 2,
       "version_minor": 0
      },
      "text/plain": [
       "88:   0%|          | 0/96 [00:00<?, ?it/s]"
      ]
     },
     "metadata": {},
     "output_type": "display_data"
    },
    {
     "data": {
      "application/vnd.jupyter.widget-view+json": {
       "model_id": "a416ede000354be492e94d3260052363",
       "version_major": 2,
       "version_minor": 0
      },
      "text/plain": [
       "89:   0%|          | 0/112 [00:00<?, ?it/s]"
      ]
     },
     "metadata": {},
     "output_type": "display_data"
    },
    {
     "data": {
      "application/vnd.jupyter.widget-view+json": {
       "model_id": "7d1960add4ce43bfa6ee05d73e3f3449",
       "version_major": 2,
       "version_minor": 0
      },
      "text/plain": [
       "90:   0%|          | 0/96 [00:00<?, ?it/s]"
      ]
     },
     "metadata": {},
     "output_type": "display_data"
    },
    {
     "data": {
      "application/vnd.jupyter.widget-view+json": {
       "model_id": "d35ba9f8fb9246abb66945b534801c82",
       "version_major": 2,
       "version_minor": 0
      },
      "text/plain": [
       "91:   0%|          | 0/96 [00:00<?, ?it/s]"
      ]
     },
     "metadata": {},
     "output_type": "display_data"
    },
    {
     "data": {
      "application/vnd.jupyter.widget-view+json": {
       "model_id": "47a7cd1e9eea4bf9ba3606fa65e74830",
       "version_major": 2,
       "version_minor": 0
      },
      "text/plain": [
       "92:   0%|          | 0/96 [00:00<?, ?it/s]"
      ]
     },
     "metadata": {},
     "output_type": "display_data"
    },
    {
     "data": {
      "application/vnd.jupyter.widget-view+json": {
       "model_id": "436528c1915d4ed7ab75b955b2cd0899",
       "version_major": 2,
       "version_minor": 0
      },
      "text/plain": [
       "93:   0%|          | 0/104 [00:00<?, ?it/s]"
      ]
     },
     "metadata": {},
     "output_type": "display_data"
    },
    {
     "data": {
      "application/vnd.jupyter.widget-view+json": {
       "model_id": "61f7057d83dd4e95953fd6472d45d278",
       "version_major": 2,
       "version_minor": 0
      },
      "text/plain": [
       "94:   0%|          | 0/96 [00:00<?, ?it/s]"
      ]
     },
     "metadata": {},
     "output_type": "display_data"
    },
    {
     "data": {
      "application/vnd.jupyter.widget-view+json": {
       "model_id": "3aa151ffc28541d8b9637e53bf96ddb8",
       "version_major": 2,
       "version_minor": 0
      },
      "text/plain": [
       "95:   0%|          | 0/96 [00:00<?, ?it/s]"
      ]
     },
     "metadata": {},
     "output_type": "display_data"
    },
    {
     "data": {
      "application/vnd.jupyter.widget-view+json": {
       "model_id": "9a34357299344d2aa0359a96097765e2",
       "version_major": 2,
       "version_minor": 0
      },
      "text/plain": [
       "96:   0%|          | 0/95 [00:00<?, ?it/s]"
      ]
     },
     "metadata": {},
     "output_type": "display_data"
    },
    {
     "data": {
      "application/vnd.jupyter.widget-view+json": {
       "model_id": "7a864b25a79d455ca6d836ec264ebfa7",
       "version_major": 2,
       "version_minor": 0
      },
      "text/plain": [
       "97:   0%|          | 0/96 [00:00<?, ?it/s]"
      ]
     },
     "metadata": {},
     "output_type": "display_data"
    },
    {
     "data": {
      "application/vnd.jupyter.widget-view+json": {
       "model_id": "0988e39985594dbf9c5d2e30c3a9330e",
       "version_major": 2,
       "version_minor": 0
      },
      "text/plain": [
       "98:   0%|          | 0/96 [00:00<?, ?it/s]"
      ]
     },
     "metadata": {},
     "output_type": "display_data"
    },
    {
     "data": {
      "application/vnd.jupyter.widget-view+json": {
       "model_id": "a61c047e828241ffb7d6b2d8dcf85430",
       "version_major": 2,
       "version_minor": 0
      },
      "text/plain": [
       "99:   0%|          | 0/96 [00:00<?, ?it/s]"
      ]
     },
     "metadata": {},
     "output_type": "display_data"
    }
   ],
   "source": [
    "img_gists = {char: [str(list(gist_extractor(img))) for img in tqdm(images[char], desc=str(i))] for i, char in enumerate(images)}"
   ]
  },
  {
   "cell_type": "code",
   "execution_count": 134,
   "metadata": {},
   "outputs": [],
   "source": [
    "with open('/Users/kx/Desktop/gist.json', 'w') as f:\n",
    "    json.dump(img_gists, f)"
   ]
  },
  {
   "cell_type": "code",
   "execution_count": null,
   "metadata": {},
   "outputs": [],
   "source": []
  }
 ],
 "metadata": {
  "kernelspec": {
   "display_name": "Python 2",
   "language": "python",
   "name": "python2"
  },
  "language_info": {
   "codemirror_mode": {
    "name": "ipython",
    "version": 2
   },
   "file_extension": ".py",
   "mimetype": "text/x-python",
   "name": "python",
   "nbconvert_exporter": "python",
   "pygments_lexer": "ipython2",
   "version": "2.7.16"
  }
 },
 "nbformat": 4,
 "nbformat_minor": 2
}
