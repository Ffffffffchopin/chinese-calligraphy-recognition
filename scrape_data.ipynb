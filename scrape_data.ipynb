{
 "cells": [
  {
   "cell_type": "code",
   "execution_count": 1,
   "metadata": {},
   "outputs": [],
   "source": [
    "import time\n",
    "import random\n",
    "import os\n",
    "import json\n",
    "from tqdm.notebook import tqdm\n",
    "\n",
    "from selenium import webdriver\n",
    "from selenium.webdriver.chrome.options import Options\n",
    "from selenium.webdriver.common.keys import Keys\n",
    "from bs4 import BeautifulSoup\n",
    "import urllib\n",
    "from urllib.error import HTTPError"
   ]
  },
  {
   "cell_type": "code",
   "execution_count": 2,
   "metadata": {},
   "outputs": [],
   "source": [
    "common = []\n",
    "with open('common.txt', 'r') as f:\n",
    "    for line in f:\n",
    "        common.append(line.strip())\n",
    "        \n",
    "common = common[:100]"
   ]
  },
  {
   "cell_type": "code",
   "execution_count": 3,
   "metadata": {},
   "outputs": [],
   "source": [
    "def send_word_key(word, driver):\n",
    "    elem = driver.find_element_by_class_name('MuiInputBase-input')\n",
    "\n",
    "    while len(elem.get_attribute('value')) > 0:\n",
    "        elem.send_keys(Keys.BACK_SPACE)\n",
    "\n",
    "    elem.send_keys(word)\n",
    "\n",
    "    elem = driver.find_element_by_class_name(\"MuiButton-label\")\n",
    "    script = \"arguments[0].click()\"\n",
    "    driver.execute_script(script, elem)\n",
    "    assert driver.find_element_by_class_name('MuiInputBase-input').get_attribute('value') == word\n",
    "    \n",
    "def get_imgs(driver):\n",
    "    content = driver.page_source\n",
    "    soup = BeautifulSoup(content, features='lxml')\n",
    "    wrappers = soup.find_all('div', {'class': 'MuiGrid-root MuiGrid-item MuiGrid-grid-xs-4 MuiGrid-grid-sm-3 MuiGrid-grid-md-2 MuiGrid-grid-lg-2'})\n",
    "    imgs = []\n",
    "    for wrapper in wrappers:\n",
    "        imgs.append((wrapper.find('img'), wrapper.find('p').text))\n",
    "    return imgs"
   ]
  },
  {
   "cell_type": "code",
   "execution_count": 9,
   "metadata": {},
   "outputs": [],
   "source": [
    "chrome_path = '/Users/kx/chromedriver'\n",
    "chrome_options = Options()\n",
    "chrome_options.add_argument(\"--headless\")\n",
    "driver = webdriver.Chrome(chrome_path, options=chrome_options)\n",
    "\n",
    "data_path = 'data/shufadict'\n",
    "dict_url = 'https://www.shufadict.com/dict/x'"
   ]
  },
  {
   "cell_type": "code",
   "execution_count": 10,
   "metadata": {},
   "outputs": [],
   "source": [
    "driver.get(dict_url)\n",
    "\n",
    "loading = True\n",
    "while loading:\n",
    "    content = driver.page_source\n",
    "    soup = BeautifulSoup(content)\n",
    "    loading = soup.find('div', {'id': 'loading'}) is not None\n",
    "    time.sleep(3)"
   ]
  },
  {
   "cell_type": "code",
   "execution_count": 11,
   "metadata": {},
   "outputs": [],
   "source": [
    "with open('lookup.json', 'r') as f:\n",
    "    lookup_ls = json.load(f)\n",
    "\n",
    "done = set([x[0] for x in lookup_ls])"
   ]
  },
  {
   "cell_type": "code",
   "execution_count": 12,
   "metadata": {
    "scrolled": true
   },
   "outputs": [
    {
     "name": "stdout",
     "output_type": "stream",
     "text": [
      "[STATUS] 1/100 的\n",
      "[STATUS] 2/100 一\n",
      "[STATUS] 3/100 是\n",
      "[STATUS] 4/100 了\n",
      "[STATUS] 5/100 我\n",
      "[STATUS] 6/100 不\n",
      "[STATUS] 7/100 人\n",
      "[STATUS] 8/100 在\n",
      "[STATUS] 9/100 他\n",
      "[STATUS] 10/100 有\n",
      "[STATUS] 11/100 这\n",
      "[STATUS] 12/100 个\n",
      "[STATUS] 13/100 上\n",
      "[STATUS] 14/100 们\n",
      "[STATUS] 15/100 来\n",
      "[STATUS] 16/100 到\n",
      "[STATUS] 17/100 时\n",
      "[STATUS] 18/100 大\n",
      "[STATUS] 19/100 地\n",
      "[STATUS] 20/100 为\n",
      "[STATUS] 21/100 子\n",
      "[STATUS] 22/100 中\n",
      "[STATUS] 23/100 你\n",
      "[STATUS] 24/100 说\n",
      "[STATUS] 25/100 生\n",
      "[STATUS] 26/100 国\n",
      "[STATUS] 27/100 年\n",
      "[STATUS] 28/100 着\n",
      "[STATUS] 29/100 就\n",
      "[STATUS] 30/100 那\n",
      "[STATUS] 31/100 和\n",
      "[STATUS] 32/100 要\n",
      "[STATUS] 33/100 她\n",
      "[STATUS] 34/100 出\n",
      "[STATUS] 35/100 也\n",
      "[STATUS] 36/100 得\n",
      "[STATUS] 37/100 里\n",
      "[STATUS] 38/100 后\n",
      "[STATUS] 39/100 自\n",
      "[STATUS] 40/100 以\n",
      "[STATUS] 41/100 会\n",
      "[STATUS] 42/100 家\n",
      "[STATUS] 43/100 可\n",
      "[STATUS] 44/100 下\n",
      "[STATUS] 45/100 而\n",
      "[STATUS] 46/100 过\n",
      "[STATUS] 47/100 天\n",
      "[STATUS] 48/100 去\n",
      "[STATUS] 49/100 能\n",
      "[STATUS] 50/100 对\n",
      "[STATUS] 51/100 小\n",
      "[STATUS] 52/100 多\n",
      "[STATUS] 53/100 然\n",
      "[STATUS] 54/100 于\n",
      "[STATUS] 55/100 心\n",
      "[STATUS] 56/100 学\n",
      "[STATUS] 57/100 么\n",
      "[STATUS] 58/100 之\n",
      "[STATUS] 59/100 都\n",
      "[STATUS] 60/100 好\n",
      "[STATUS] 61/100 看\n",
      "[STATUS] 62/100 起\n",
      "[STATUS] 63/100 发\n",
      "[STATUS] 64/100 当\n",
      "[STATUS] 65/100 没\n",
      "[STATUS] 66/100 成\n",
      "[STATUS] 67/100 只\n",
      "[STATUS] 68/100 如\n",
      "[STATUS] 69/100 事\n"
     ]
    },
    {
     "data": {
      "application/vnd.jupyter.widget-view+json": {
       "model_id": "156ca95b6efc47eda1de4c1d6802259e",
       "version_major": 2,
       "version_minor": 0
      },
      "text/plain": [
       "  0%|          | 0/96 [00:00<?, ?it/s]"
      ]
     },
     "metadata": {},
     "output_type": "display_data"
    },
    {
     "name": "stdout",
     "output_type": "stream",
     "text": [
      "[STATUS] 70/100 把\n"
     ]
    },
    {
     "data": {
      "application/vnd.jupyter.widget-view+json": {
       "model_id": "d75c1a85c7bc4fdeb7f135552c0bb69b",
       "version_major": 2,
       "version_minor": 0
      },
      "text/plain": [
       "  0%|          | 0/154 [00:00<?, ?it/s]"
      ]
     },
     "metadata": {},
     "output_type": "display_data"
    },
    {
     "name": "stdout",
     "output_type": "stream",
     "text": [
      "[STATUS] 71/100 还\n"
     ]
    },
    {
     "data": {
      "application/vnd.jupyter.widget-view+json": {
       "model_id": "359ec96bec564801a4fd316f617955cb",
       "version_major": 2,
       "version_minor": 0
      },
      "text/plain": [
       "  0%|          | 0/96 [00:00<?, ?it/s]"
      ]
     },
     "metadata": {},
     "output_type": "display_data"
    },
    {
     "name": "stdout",
     "output_type": "stream",
     "text": [
      "[STATUS] 72/100 用\n"
     ]
    },
    {
     "data": {
      "application/vnd.jupyter.widget-view+json": {
       "model_id": "c97eea7f4f5e468a8c50896128fb31bd",
       "version_major": 2,
       "version_minor": 0
      },
      "text/plain": [
       "  0%|          | 0/96 [00:00<?, ?it/s]"
      ]
     },
     "metadata": {},
     "output_type": "display_data"
    },
    {
     "name": "stdout",
     "output_type": "stream",
     "text": [
      "[STATUS] 73/100 第\n"
     ]
    },
    {
     "data": {
      "application/vnd.jupyter.widget-view+json": {
       "model_id": "b3d6ca059bd14493802bac587ae9285c",
       "version_major": 2,
       "version_minor": 0
      },
      "text/plain": [
       "  0%|          | 0/96 [00:00<?, ?it/s]"
      ]
     },
     "metadata": {},
     "output_type": "display_data"
    },
    {
     "name": "stdout",
     "output_type": "stream",
     "text": [
      "[STATUS] 74/100 样\n"
     ]
    },
    {
     "data": {
      "application/vnd.jupyter.widget-view+json": {
       "model_id": "ef9b0c9ab466489c8071d6a73d06df1b",
       "version_major": 2,
       "version_minor": 0
      },
      "text/plain": [
       "  0%|          | 0/125 [00:00<?, ?it/s]"
      ]
     },
     "metadata": {},
     "output_type": "display_data"
    },
    {
     "name": "stdout",
     "output_type": "stream",
     "text": [
      "[STATUS] 75/100 道\n"
     ]
    },
    {
     "data": {
      "application/vnd.jupyter.widget-view+json": {
       "model_id": "e0e44874510348bca40b38fa43ffb4bd",
       "version_major": 2,
       "version_minor": 0
      },
      "text/plain": [
       "  0%|          | 0/96 [00:00<?, ?it/s]"
      ]
     },
     "metadata": {},
     "output_type": "display_data"
    },
    {
     "name": "stdout",
     "output_type": "stream",
     "text": [
      "[STATUS] 76/100 想\n"
     ]
    },
    {
     "data": {
      "application/vnd.jupyter.widget-view+json": {
       "model_id": "bb9a12da9ca24b55abf784ca2aa57da4",
       "version_major": 2,
       "version_minor": 0
      },
      "text/plain": [
       "  0%|          | 0/96 [00:00<?, ?it/s]"
      ]
     },
     "metadata": {},
     "output_type": "display_data"
    },
    {
     "name": "stdout",
     "output_type": "stream",
     "text": [
      "[STATUS] 77/100 作\n"
     ]
    },
    {
     "data": {
      "application/vnd.jupyter.widget-view+json": {
       "model_id": "5c7263c40a984d4699b3f4a5c115638e",
       "version_major": 2,
       "version_minor": 0
      },
      "text/plain": [
       "  0%|          | 0/96 [00:00<?, ?it/s]"
      ]
     },
     "metadata": {},
     "output_type": "display_data"
    },
    {
     "name": "stdout",
     "output_type": "stream",
     "text": [
      "[STATUS] 78/100 种\n"
     ]
    },
    {
     "data": {
      "application/vnd.jupyter.widget-view+json": {
       "model_id": "0ab418ca611240e8a684ad490b6f28e8",
       "version_major": 2,
       "version_minor": 0
      },
      "text/plain": [
       "  0%|          | 0/96 [00:00<?, ?it/s]"
      ]
     },
     "metadata": {},
     "output_type": "display_data"
    },
    {
     "name": "stdout",
     "output_type": "stream",
     "text": [
      "[STATUS] 79/100 开\n"
     ]
    },
    {
     "data": {
      "application/vnd.jupyter.widget-view+json": {
       "model_id": "148690b85e1d4f0586ec8511644b7d1b",
       "version_major": 2,
       "version_minor": 0
      },
      "text/plain": [
       "  0%|          | 0/96 [00:00<?, ?it/s]"
      ]
     },
     "metadata": {},
     "output_type": "display_data"
    },
    {
     "name": "stdout",
     "output_type": "stream",
     "text": [
      "[STATUS] 80/100 美\n"
     ]
    },
    {
     "data": {
      "application/vnd.jupyter.widget-view+json": {
       "model_id": "c0e0ed7f50674fbb80b73bb92dae5e3b",
       "version_major": 2,
       "version_minor": 0
      },
      "text/plain": [
       "  0%|          | 0/96 [00:00<?, ?it/s]"
      ]
     },
     "metadata": {},
     "output_type": "display_data"
    },
    {
     "name": "stdout",
     "output_type": "stream",
     "text": [
      "[STATUS] 81/100 总\n"
     ]
    },
    {
     "data": {
      "application/vnd.jupyter.widget-view+json": {
       "model_id": "d8e18efc35044577ade893778c13633c",
       "version_major": 2,
       "version_minor": 0
      },
      "text/plain": [
       "  0%|          | 0/96 [00:00<?, ?it/s]"
      ]
     },
     "metadata": {},
     "output_type": "display_data"
    },
    {
     "name": "stdout",
     "output_type": "stream",
     "text": [
      "[STATUS] 82/100 从\n"
     ]
    },
    {
     "data": {
      "application/vnd.jupyter.widget-view+json": {
       "model_id": "c1edbf91b0c2464cb35441362422515c",
       "version_major": 2,
       "version_minor": 0
      },
      "text/plain": [
       "  0%|          | 0/96 [00:00<?, ?it/s]"
      ]
     },
     "metadata": {},
     "output_type": "display_data"
    },
    {
     "name": "stdout",
     "output_type": "stream",
     "text": [
      "[STATUS] 83/100 无\n"
     ]
    },
    {
     "data": {
      "application/vnd.jupyter.widget-view+json": {
       "model_id": "9eec9d0d964c4b1695e79521bcfa51cf",
       "version_major": 2,
       "version_minor": 0
      },
      "text/plain": [
       "  0%|          | 0/96 [00:00<?, ?it/s]"
      ]
     },
     "metadata": {},
     "output_type": "display_data"
    },
    {
     "name": "stdout",
     "output_type": "stream",
     "text": [
      "[STATUS] 84/100 情\n"
     ]
    },
    {
     "data": {
      "application/vnd.jupyter.widget-view+json": {
       "model_id": "8b87dd20e2b54667bb2c994ab323057a",
       "version_major": 2,
       "version_minor": 0
      },
      "text/plain": [
       "  0%|          | 0/96 [00:00<?, ?it/s]"
      ]
     },
     "metadata": {},
     "output_type": "display_data"
    },
    {
     "name": "stdout",
     "output_type": "stream",
     "text": [
      "[STATUS] 85/100 己\n"
     ]
    },
    {
     "data": {
      "application/vnd.jupyter.widget-view+json": {
       "model_id": "323f387ed1e947f29abdc1dd9b6e79fc",
       "version_major": 2,
       "version_minor": 0
      },
      "text/plain": [
       "  0%|          | 0/96 [00:00<?, ?it/s]"
      ]
     },
     "metadata": {},
     "output_type": "display_data"
    },
    {
     "name": "stdout",
     "output_type": "stream",
     "text": [
      "[STATUS] 86/100 面\n"
     ]
    },
    {
     "data": {
      "application/vnd.jupyter.widget-view+json": {
       "model_id": "a0c3c85a6cec4bdda178eba290db3a5e",
       "version_major": 2,
       "version_minor": 0
      },
      "text/plain": [
       "  0%|          | 0/96 [00:00<?, ?it/s]"
      ]
     },
     "metadata": {},
     "output_type": "display_data"
    },
    {
     "name": "stdout",
     "output_type": "stream",
     "text": [
      "[STATUS] 87/100 最\n"
     ]
    },
    {
     "data": {
      "application/vnd.jupyter.widget-view+json": {
       "model_id": "d9aa2ec4059644db95f426230f85e9a6",
       "version_major": 2,
       "version_minor": 0
      },
      "text/plain": [
       "  0%|          | 0/96 [00:00<?, ?it/s]"
      ]
     },
     "metadata": {},
     "output_type": "display_data"
    },
    {
     "name": "stdout",
     "output_type": "stream",
     "text": [
      "[STATUS] 88/100 女\n"
     ]
    },
    {
     "data": {
      "application/vnd.jupyter.widget-view+json": {
       "model_id": "d7cc41d20c5143729c293533aa210967",
       "version_major": 2,
       "version_minor": 0
      },
      "text/plain": [
       "  0%|          | 0/96 [00:00<?, ?it/s]"
      ]
     },
     "metadata": {},
     "output_type": "display_data"
    },
    {
     "name": "stdout",
     "output_type": "stream",
     "text": [
      "[STATUS] 89/100 但\n"
     ]
    },
    {
     "data": {
      "application/vnd.jupyter.widget-view+json": {
       "model_id": "d95982c75f98483cbda5f74bcd208a59",
       "version_major": 2,
       "version_minor": 0
      },
      "text/plain": [
       "  0%|          | 0/96 [00:00<?, ?it/s]"
      ]
     },
     "metadata": {},
     "output_type": "display_data"
    },
    {
     "name": "stdout",
     "output_type": "stream",
     "text": [
      "[STATUS] 90/100 现\n"
     ]
    },
    {
     "data": {
      "application/vnd.jupyter.widget-view+json": {
       "model_id": "11496c2ec471459ab76e3923628399d7",
       "version_major": 2,
       "version_minor": 0
      },
      "text/plain": [
       "  0%|          | 0/172 [00:00<?, ?it/s]"
      ]
     },
     "metadata": {},
     "output_type": "display_data"
    },
    {
     "name": "stdout",
     "output_type": "stream",
     "text": [
      "[STATUS] 91/100 前\n"
     ]
    },
    {
     "data": {
      "application/vnd.jupyter.widget-view+json": {
       "model_id": "6a1a90d2fd9d48a9a770f753a2cb7c9c",
       "version_major": 2,
       "version_minor": 0
      },
      "text/plain": [
       "  0%|          | 0/96 [00:00<?, ?it/s]"
      ]
     },
     "metadata": {},
     "output_type": "display_data"
    },
    {
     "name": "stdout",
     "output_type": "stream",
     "text": [
      "[STATUS] 92/100 些\n"
     ]
    },
    {
     "data": {
      "application/vnd.jupyter.widget-view+json": {
       "model_id": "fcb5eb42818b447c8ac97b16d27d1a01",
       "version_major": 2,
       "version_minor": 0
      },
      "text/plain": [
       "  0%|          | 0/80 [00:00<?, ?it/s]"
      ]
     },
     "metadata": {},
     "output_type": "display_data"
    },
    {
     "name": "stdout",
     "output_type": "stream",
     "text": [
      "[STATUS] 93/100 所\n"
     ]
    },
    {
     "data": {
      "application/vnd.jupyter.widget-view+json": {
       "model_id": "65700657c26a4da7931b2d22c93c2aeb",
       "version_major": 2,
       "version_minor": 0
      },
      "text/plain": [
       "  0%|          | 0/96 [00:00<?, ?it/s]"
      ]
     },
     "metadata": {},
     "output_type": "display_data"
    },
    {
     "name": "stdout",
     "output_type": "stream",
     "text": [
      "[STATUS] 94/100 同\n"
     ]
    },
    {
     "data": {
      "application/vnd.jupyter.widget-view+json": {
       "model_id": "751e8485c6064ede916e4a9ec48f0003",
       "version_major": 2,
       "version_minor": 0
      },
      "text/plain": [
       "  0%|          | 0/96 [00:00<?, ?it/s]"
      ]
     },
     "metadata": {},
     "output_type": "display_data"
    },
    {
     "name": "stdout",
     "output_type": "stream",
     "text": [
      "[STATUS] 95/100 日\n"
     ]
    },
    {
     "data": {
      "application/vnd.jupyter.widget-view+json": {
       "model_id": "44781c15e3f74e8782e83c0e3ee3ce59",
       "version_major": 2,
       "version_minor": 0
      },
      "text/plain": [
       "  0%|          | 0/96 [00:00<?, ?it/s]"
      ]
     },
     "metadata": {},
     "output_type": "display_data"
    },
    {
     "name": "stdout",
     "output_type": "stream",
     "text": [
      "[STATUS] 96/100 手\n"
     ]
    },
    {
     "data": {
      "application/vnd.jupyter.widget-view+json": {
       "model_id": "55c046461e7c461db44dcfe139c6eb75",
       "version_major": 2,
       "version_minor": 0
      },
      "text/plain": [
       "  0%|          | 0/96 [00:00<?, ?it/s]"
      ]
     },
     "metadata": {},
     "output_type": "display_data"
    },
    {
     "name": "stdout",
     "output_type": "stream",
     "text": [
      "[STATUS] 97/100 又\n"
     ]
    },
    {
     "data": {
      "application/vnd.jupyter.widget-view+json": {
       "model_id": "c71e9a4ca2074fc9bc3652f5aa1e48df",
       "version_major": 2,
       "version_minor": 0
      },
      "text/plain": [
       "  0%|          | 0/96 [00:00<?, ?it/s]"
      ]
     },
     "metadata": {},
     "output_type": "display_data"
    },
    {
     "name": "stdout",
     "output_type": "stream",
     "text": [
      "[STATUS] 98/100 行\n"
     ]
    },
    {
     "data": {
      "application/vnd.jupyter.widget-view+json": {
       "model_id": "b017674894a948929f88d50456a9f579",
       "version_major": 2,
       "version_minor": 0
      },
      "text/plain": [
       "  0%|          | 0/96 [00:00<?, ?it/s]"
      ]
     },
     "metadata": {},
     "output_type": "display_data"
    },
    {
     "name": "stdout",
     "output_type": "stream",
     "text": [
      "[STATUS] 99/100 意\n"
     ]
    },
    {
     "data": {
      "application/vnd.jupyter.widget-view+json": {
       "model_id": "82bcdbcfa1194553a1efa8dfe360e58e",
       "version_major": 2,
       "version_minor": 0
      },
      "text/plain": [
       "  0%|          | 0/96 [00:00<?, ?it/s]"
      ]
     },
     "metadata": {},
     "output_type": "display_data"
    },
    {
     "name": "stdout",
     "output_type": "stream",
     "text": [
      "[STATUS] 100/100 动\n"
     ]
    },
    {
     "data": {
      "application/vnd.jupyter.widget-view+json": {
       "model_id": "12353b0dc1a4470789ff4f7d9e0aeed7",
       "version_major": 2,
       "version_minor": 0
      },
      "text/plain": [
       "  0%|          | 0/96 [00:00<?, ?it/s]"
      ]
     },
     "metadata": {},
     "output_type": "display_data"
    }
   ],
   "source": [
    "prev_img = ''\n",
    "for i, word in enumerate(common):\n",
    "\n",
    "    print('[STATUS] {}/{} {}'.format(i + 1, len(common), word))\n",
    "    \n",
    "    if word in done:\n",
    "        continue\n",
    "    \n",
    "    send_word_key(word, driver)\n",
    "\n",
    "    word_path = os.path.join(data_path, word)\n",
    "    if not os.path.exists(word_path):\n",
    "        os.makedirs(word_path)\n",
    "    \n",
    "    retries = 3\n",
    "    imgs = get_imgs(driver)\n",
    "    \n",
    "    while (len(imgs) == 0 or imgs[0] == prev_img) and retries > 0:\n",
    "        time.sleep(random.random() + 5)\n",
    "        imgs = get_imgs(driver)\n",
    "        retries -= 1\n",
    "        \n",
    "    if len(imgs) == 0:\n",
    "        print('[ERROR] 0 images found'.format(word))\n",
    "    \n",
    "    for item in tqdm(imgs):\n",
    "        (img, author) = item\n",
    "        img_src = img['src']\n",
    "        filename = img_src.split('/')[-1].split('@')[0]\n",
    "        lookup = [word, author, filename]\n",
    "        if lookup not in lookup_ls:\n",
    "            lookup_ls.append(lookup)\n",
    "            img_path = os.path.join(word_path, filename)\n",
    "            if not os.path.exists(img_path):\n",
    "                try:\n",
    "                    urllib.request.urlretrieve(img_src, img_path)\n",
    "                except HTTPError:\n",
    "                    print('[ERROR] HTTPError', img_src)\n",
    "        \n",
    "    with open('lookup.json', 'w') as f:\n",
    "        json.dump(lookup_ls, f)\n",
    "    \n",
    "    prev_img = imgs[0]"
   ]
  },
  {
   "cell_type": "code",
   "execution_count": 8,
   "metadata": {},
   "outputs": [],
   "source": [
    "driver.quit()"
   ]
  },
  {
   "cell_type": "code",
   "execution_count": null,
   "metadata": {},
   "outputs": [],
   "source": [
    "img_src"
   ]
  },
  {
   "cell_type": "code",
   "execution_count": null,
   "metadata": {},
   "outputs": [],
   "source": []
  }
 ],
 "metadata": {
  "kernelspec": {
   "display_name": "Python 3",
   "language": "python",
   "name": "python3"
  },
  "language_info": {
   "codemirror_mode": {
    "name": "ipython",
    "version": 3
   },
   "file_extension": ".py",
   "mimetype": "text/x-python",
   "name": "python",
   "nbconvert_exporter": "python",
   "pygments_lexer": "ipython3",
   "version": "3.8.3"
  }
 },
 "nbformat": 4,
 "nbformat_minor": 4
}
