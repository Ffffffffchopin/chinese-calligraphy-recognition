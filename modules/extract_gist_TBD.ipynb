{
 "cells": [
  {
   "cell_type": "markdown",
   "metadata": {},
   "source": [
    "GIST Playground"
   ]
  },
  {
   "cell_type": "code",
   "execution_count": null,
   "metadata": {},
   "outputs": [],
   "source": [
    "import os\n",
    "import glob\n",
    "import gist\n",
    "import tqdm\n",
    "from tqdm.notebook import tqdm\n",
    "\n",
    "import numpy as np\n",
    "import matplotlib.image as mpimg"
   ]
  },
  {
   "cell_type": "markdown",
   "metadata": {},
   "source": [
    "## Clustering"
   ]
  },
  {
   "cell_type": "code",
   "execution_count": null,
   "metadata": {},
   "outputs": [],
   "source": [
    "# read data\n",
    "data_dir = 'data/clustering'\n",
    "images = {}\n",
    "\n",
    "for file in glob.glob(data_dir + '/*/*/*'):\n",
    "    _, _, char, group, _ = file.split('/')\n",
    "    img = mpimg.imread(file)\n",
    "    if char not in images:\n",
    "        images[char] = {}\n",
    "    if group not in images[char]:\n",
    "        images[char][group] = []\n",
    "    images[char][group].append(img)\n",
    "    \n",
    "    \n",
    "def estimate_features(images, extractor):\n",
    "\n",
    "    features = {}\n",
    "    for char in images:\n",
    "        features[char] = {}\n",
    "        for var in images[char]:\n",
    "            var_fs = [extractor(image) for image in images[char][var]]\n",
    "            features[char][var] = list(sum(var_fs) / len(var_fs))\n",
    "            \n",
    "    return features"
   ]
  },
  {
   "cell_type": "code",
   "execution_count": null,
   "metadata": {},
   "outputs": [],
   "source": [
    "def gist_extractor(image):\n",
    "    if len(image.shape) == 2:\n",
    "        image = np.expand_dims(image, 3).repeat(3, axis=2)\n",
    "        \n",
    "    nblocks = 4\n",
    "    ops = (8, 8, 4)\n",
    "    return gist.extract(\n",
    "        image.astype('uint8'), \n",
    "        nblocks=nblocks, \n",
    "        orientations_per_scale=ops)[:nblocks * sum(ops)]\n",
    "    "
   ]
  },
  {
   "cell_type": "code",
   "execution_count": null,
   "metadata": {},
   "outputs": [],
   "source": [
    "gists = estimate_features(images, gist_extractor)\n",
    "str(gists)"
   ]
  },
  {
   "cell_type": "markdown",
   "metadata": {},
   "source": [
    "## Clean"
   ]
  },
  {
   "cell_type": "code",
   "execution_count": null,
   "metadata": {},
   "outputs": [],
   "source": [
    "# read data\n",
    "data_dir = 'data/shufadict/clean'\n",
    "ext_data_dir = 'data/hanwen360/clean'\n",
    "images = {}\n",
    "\n",
    "for file in glob.glob(data_dir + '/*/*.png') + (glob.glob(ext_data_dir + '/*/*.png')):\n",
    "    char = file.split('/')[-2]\n",
    "    img = mpimg.imread(file)\n",
    "    if char not in images:\n",
    "        images[char] = []\n",
    "    images[char].append(img)"
   ]
  },
  {
   "cell_type": "code",
   "execution_count": null,
   "metadata": {
    "scrolled": true
   },
   "outputs": [],
   "source": [
    "img_gists = {char: [str(list(gist_extractor(img))) for img in tqdm(images[char], desc=str(i))] for i, char in enumerate(images)}"
   ]
  },
  {
   "cell_type": "code",
   "execution_count": null,
   "metadata": {},
   "outputs": [],
   "source": [
    "with open('/Users/kx/Desktop/gist.json', 'w') as f:\n",
    "    json.dump(img_gists, f)"
   ]
  },
  {
   "cell_type": "code",
   "execution_count": null,
   "metadata": {},
   "outputs": [],
   "source": []
  }
 ],
 "metadata": {
  "kernelspec": {
   "display_name": "Python 2",
   "language": "python",
   "name": "python2"
  },
  "language_info": {
   "codemirror_mode": {
    "name": "ipython",
    "version": 2
   },
   "file_extension": ".py",
   "mimetype": "text/x-python",
   "name": "python",
   "nbconvert_exporter": "python",
   "pygments_lexer": "ipython2",
   "version": "2.7.16"
  }
 },
 "nbformat": 4,
 "nbformat_minor": 2
}
